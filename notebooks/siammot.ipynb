{
  "nbformat": 4,
  "nbformat_minor": 0,
  "metadata": {
    "colab": {
      "name": "siammot_baseline_runs.ipynb",
      "provenance": [],
      "collapsed_sections": [],
      "include_colab_link": true
    },
    "kernelspec": {
      "name": "python3",
      "display_name": "Python 3"
    },
    "language_info": {
      "name": "python"
    },
    "accelerator": "GPU"
  },
  "cells": [
    {
      "cell_type": "markdown",
      "metadata": {
        "id": "view-in-github",
        "colab_type": "text"
      },
      "source": [
        "<a href=\"https://colab.research.google.com/github/VuongTuanKhanh/Funix-Capstone-Project/blob/main/notebooks/siammot.ipynb\" target=\"_parent\"><img src=\"https://colab.research.google.com/assets/colab-badge.svg\" alt=\"Open In Colab\"/></a>"
      ]
    },
    {
      "cell_type": "code",
      "metadata": {
        "colab": {
          "base_uri": "https://localhost:8080/"
        },
        "id": "hj8-TwQVjiKC",
        "outputId": "c47f79e1-95a3-440b-8f22-f839e0c2f6bd"
      },
      "source": [
        "!ls /usr/local/\n",
        "\n",
        "!python -c \"import torch; print(torch.__version__, torch.version.cuda)\"\n",
        "\n",
        "if False:\n",
        "    !pip uninstall torch torchvision -y\n",
        "    !pip install torch torchvision\n",
        "\n",
        "!python -c \"import torch; print(torch.__version__, torch.version.cuda)\""
      ],
      "execution_count": null,
      "outputs": [
        {
          "output_type": "stream",
          "text": [
            "bin\t   cuda-10.1  games\t\t  lib\t       man\t  share\n",
            "cuda\t   cuda-11.0  _gcs_config_ops.so  LICENSE.txt  sbin\t  src\n",
            "cuda-10.0  etc\t      include\t\t  licensing    setup.cfg  xgboost\n",
            "1.9.0+cu102 10.2\n",
            "1.9.0+cu102 10.2\n"
          ],
          "name": "stdout"
        }
      ]
    },
    {
      "cell_type": "code",
      "metadata": {
        "colab": {
          "base_uri": "https://localhost:8080/"
        },
        "id": "M4n3u9-5kozE",
        "outputId": "eec36338-b933-4f2d-d453-9b4bdb70a276"
      },
      "source": [
        "from IPython.display import clear_output\n",
        "\n",
        "%cd /content/\n",
        "!rm -rf apex\n",
        "!git clone https://github.com/NVIDIA/apex\n",
        "%cd apex\n",
        "!CUDA_HOME=/usr/local/cuda-10.0 pip install -v --disable-pip-version-check --no-cache-dir ./\n",
        "\n",
        "clear_output()\n",
        "print(\"apex installed.\")"
      ],
      "execution_count": null,
      "outputs": [
        {
          "output_type": "stream",
          "text": [
            "apex installed.\n"
          ],
          "name": "stdout"
        }
      ]
    },
    {
      "cell_type": "code",
      "metadata": {
        "colab": {
          "base_uri": "https://localhost:8080/"
        },
        "id": "hqMLRWmotlgJ",
        "outputId": "0ea4e8a7-1154-4961-cc6f-00246501c8b5"
      },
      "source": [
        "!pip install ninja yacs cython\n",
        "clear_output()\n",
        "print(\"ninja installed.\")"
      ],
      "execution_count": null,
      "outputs": [
        {
          "output_type": "stream",
          "text": [
            "ninja installed.\n"
          ],
          "name": "stdout"
        }
      ]
    },
    {
      "cell_type": "code",
      "metadata": {
        "id": "0D18qd0Zk_U8",
        "colab": {
          "base_uri": "https://localhost:8080/"
        },
        "outputId": "65368b93-df74-4e92-f5f5-0089abd7746d"
      },
      "source": [
        "# install PyTorch Detection\n",
        "%cd /content\n",
        "!rm -rf maskrcnn-benchmark\n",
        "#!git clone https://github.com/facebookresearch/maskrcnn-benchmark.git\n",
        "!git clone https://github.com/tiendzung-le/maskrcnn-benchmark.git\n",
        "%cd maskrcnn-benchmark\n",
        "!perl -i -pe 's/AT_CHECK/TORCH_CHECK/' $\"maskrcnn_benchmark/csrc/cuda\"/deform_pool_cuda.cu $\"maskrcnn_benchmark/csrc/cuda\"/deform_conv_cuda.cu\n",
        "!python setup.py build develop\n",
        "\n",
        "from IPython.display import clear_output\n",
        "clear_output()\n",
        "print(\"maskrcnn-benchmark installed\")"
      ],
      "execution_count": null,
      "outputs": [
        {
          "output_type": "stream",
          "text": [
            "maskrcnn-benchmark installed\n"
          ],
          "name": "stdout"
        }
      ]
    },
    {
      "cell_type": "code",
      "metadata": {
        "colab": {
          "base_uri": "https://localhost:8080/"
        },
        "id": "T2BUXhfuu72K",
        "outputId": "87f1fd9e-51a1-4214-b5c5-5b864c940242"
      },
      "source": [
        "%cd /content/maskrcnn-benchmark/demo\n",
        "import sys\n",
        "sys.path.append(\"/content/maskrcnn-benchmark\") # go to parent dir\n",
        "import maskrcnn_benchmark\n",
        "\n",
        "#%load_ext autoreload\n",
        "#%autoreload 2"
      ],
      "execution_count": null,
      "outputs": [
        {
          "output_type": "stream",
          "text": [
            "/content/maskrcnn-benchmark/demo\n"
          ],
          "name": "stdout"
        }
      ]
    },
    {
      "cell_type": "markdown",
      "metadata": {
        "id": "AMzwW5SG7jk2"
      },
      "source": [
        "Siam_mot"
      ]
    },
    {
      "cell_type": "code",
      "metadata": {
        "colab": {
          "base_uri": "https://localhost:8080/"
        },
        "id": "0oAn-Pik8IXj",
        "outputId": "e5ebb92f-7ae9-4682-e7a6-d50ae248f444"
      },
      "source": [
        "%cd /content"
      ],
      "execution_count": null,
      "outputs": [
        {
          "output_type": "stream",
          "text": [
            "/content\n"
          ],
          "name": "stdout"
        }
      ]
    },
    {
      "cell_type": "code",
      "metadata": {
        "colab": {
          "base_uri": "https://localhost:8080/"
        },
        "id": "rW61Es0bwPrQ",
        "outputId": "9ea2ab5a-392b-4fb2-a0af-90171093500a"
      },
      "source": [
        "import json\n",
        "import random\n",
        "import os, sys\n",
        "from IPython.display import display, clear_output, HTML\n",
        "from random import randrange, choice\n",
        "import matplotlib.pyplot as plt\n",
        "plt.rcParams[\"figure.figsize\"]=25,25\n",
        "import numpy as np\n",
        "import seaborn as sns\n",
        "\n",
        "# Because Life, Universe and Everything!\n",
        "random.seed(42)\n",
        "\n",
        "def mdprint(text):\n",
        "    display({\n",
        "        'text/markdown': text,\n",
        "        'text/plain': text\n",
        "    }, raw=True)\n",
        "\n",
        "!git clone http://gitlab.aicrowd.com/amazon-prime-air/airborne-detection-starter-kit.git\n",
        "os.chdir(\"airborne-detection-starter-kit/data\")"
      ],
      "execution_count": null,
      "outputs": [
        {
          "output_type": "stream",
          "text": [
            "Cloning into 'airborne-detection-starter-kit'...\n",
            "remote: Enumerating objects: 23, done.\u001b[K\n",
            "remote: Counting objects: 100% (23/23), done.\u001b[K\n",
            "remote: Compressing objects: 100% (20/20), done.\u001b[K\n",
            "remote: Total 360 (delta 9), reused 8 (delta 3), pack-reused 337\u001b[K\n",
            "Receiving objects: 100% (360/360), 21.91 MiB | 8.82 MiB/s, done.\n",
            "Resolving deltas: 100% (148/148), done.\n"
          ],
          "name": "stdout"
        }
      ]
    },
    {
      "cell_type": "code",
      "metadata": {
        "colab": {
          "base_uri": "https://localhost:8080/"
        },
        "id": "tuUE8fnMwdd4",
        "outputId": "da81941c-880d-487c-88d0-9a314bba5b87"
      },
      "source": [
        "# Dataset for Airborne Object Tracking Dataset\n",
        "sys.path.append(os.path.dirname(os.path.realpath(os.getcwd())))\n",
        "sys.path.append(os.path.dirname(os.path.realpath(os.getcwd())) + \"/core\")\n",
        "!pip install -r ../requirements.txt > /dev/null\n",
        "from core.dataset import Dataset\n",
        "notebook_path = os.path.dirname(os.path.realpath(\"__file__\"))\n",
        "\n",
        "local_path = notebook_path + '/part2'\n",
        "s3_path = 's3://airborne-obj-detection-challenge-training/part2/'\n",
        "dataset = Dataset(local_path, s3_path)"
      ],
      "execution_count": null,
      "outputs": [
        {
          "output_type": "stream",
          "text": [
            "2021-08-18 06:27:10.715 | INFO     | core.dataset:load_gt:20 - Loading ground truth...\n",
            "2021-08-18 06:27:10.716 | INFO     | core.file_handler:download_file_if_needed:33 - [download_from_s3] File not found locally, downloading: ImageSets/groundtruth.json\n"
          ],
          "name": "stderr"
        }
      ]
    },
    {
      "cell_type": "code",
      "metadata": {
        "id": "nkPFSmtr7yKt"
      },
      "source": [
        "os.chdir(\"/content/airborne-detection-starter-kit/\")\n",
        "!ln -s $PWD/data/part2/Images $PWD/data/val"
      ],
      "execution_count": null,
      "outputs": []
    },
    {
      "cell_type": "code",
      "metadata": {
        "colab": {
          "base_uri": "https://localhost:8080/"
        },
        "id": "UkWYQHI78y7j",
        "outputId": "6879fa1d-f69b-4dfb-d51d-fc8c3c018aee"
      },
      "source": [
        "!pip install timm cityscapesscripts\n",
        "clear_output()"
      ],
      "execution_count": null,
      "outputs": [
        {
          "output_type": "stream",
          "text": [
            "Collecting timm\n",
            "  Downloading timm-0.4.12-py3-none-any.whl (376 kB)\n",
            "\u001b[?25l\r\u001b[K     |▉                               | 10 kB 37.6 MB/s eta 0:00:01\r\u001b[K     |█▊                              | 20 kB 32.8 MB/s eta 0:00:01\r\u001b[K     |██▋                             | 30 kB 20.5 MB/s eta 0:00:01\r\u001b[K     |███▌                            | 40 kB 17.1 MB/s eta 0:00:01\r\u001b[K     |████▍                           | 51 kB 9.6 MB/s eta 0:00:01\r\u001b[K     |█████▏                          | 61 kB 9.9 MB/s eta 0:00:01\r\u001b[K     |██████                          | 71 kB 8.5 MB/s eta 0:00:01\r\u001b[K     |███████                         | 81 kB 9.5 MB/s eta 0:00:01\r\u001b[K     |███████▉                        | 92 kB 8.3 MB/s eta 0:00:01\r\u001b[K     |████████▊                       | 102 kB 9.0 MB/s eta 0:00:01\r\u001b[K     |█████████▋                      | 112 kB 9.0 MB/s eta 0:00:01\r\u001b[K     |██████████▍                     | 122 kB 9.0 MB/s eta 0:00:01\r\u001b[K     |███████████▎                    | 133 kB 9.0 MB/s eta 0:00:01\r\u001b[K     |████████████▏                   | 143 kB 9.0 MB/s eta 0:00:01\r\u001b[K     |█████████████                   | 153 kB 9.0 MB/s eta 0:00:01\r\u001b[K     |██████████████                  | 163 kB 9.0 MB/s eta 0:00:01\r\u001b[K     |██████████████▊                 | 174 kB 9.0 MB/s eta 0:00:01\r\u001b[K     |███████████████▋                | 184 kB 9.0 MB/s eta 0:00:01\r\u001b[K     |████████████████▌               | 194 kB 9.0 MB/s eta 0:00:01\r\u001b[K     |█████████████████▍              | 204 kB 9.0 MB/s eta 0:00:01\r\u001b[K     |██████████████████▎             | 215 kB 9.0 MB/s eta 0:00:01\r\u001b[K     |███████████████████▏            | 225 kB 9.0 MB/s eta 0:00:01\r\u001b[K     |████████████████████            | 235 kB 9.0 MB/s eta 0:00:01\r\u001b[K     |████████████████████▉           | 245 kB 9.0 MB/s eta 0:00:01\r\u001b[K     |█████████████████████▊          | 256 kB 9.0 MB/s eta 0:00:01\r\u001b[K     |██████████████████████▋         | 266 kB 9.0 MB/s eta 0:00:01\r\u001b[K     |███████████████████████▌        | 276 kB 9.0 MB/s eta 0:00:01\r\u001b[K     |████████████████████████▍       | 286 kB 9.0 MB/s eta 0:00:01\r\u001b[K     |█████████████████████████▏      | 296 kB 9.0 MB/s eta 0:00:01\r\u001b[K     |██████████████████████████      | 307 kB 9.0 MB/s eta 0:00:01\r\u001b[K     |███████████████████████████     | 317 kB 9.0 MB/s eta 0:00:01\r\u001b[K     |███████████████████████████▉    | 327 kB 9.0 MB/s eta 0:00:01\r\u001b[K     |████████████████████████████▊   | 337 kB 9.0 MB/s eta 0:00:01\r\u001b[K     |█████████████████████████████▌  | 348 kB 9.0 MB/s eta 0:00:01\r\u001b[K     |██████████████████████████████▍ | 358 kB 9.0 MB/s eta 0:00:01\r\u001b[K     |███████████████████████████████▎| 368 kB 9.0 MB/s eta 0:00:01\r\u001b[K     |████████████████████████████████| 376 kB 9.0 MB/s \n",
            "\u001b[?25hRequirement already satisfied: torch>=1.4 in /usr/local/lib/python3.7/dist-packages (from timm) (1.9.0+cu102)\n",
            "Requirement already satisfied: torchvision in /usr/local/lib/python3.7/dist-packages (from timm) (0.10.0+cu102)\n",
            "Requirement already satisfied: typing-extensions in /usr/local/lib/python3.7/dist-packages (from torch>=1.4->timm) (3.7.4.3)\n",
            "Requirement already satisfied: pillow>=5.3.0 in /usr/local/lib/python3.7/dist-packages (from torchvision->timm) (7.1.2)\n",
            "Requirement already satisfied: numpy in /usr/local/lib/python3.7/dist-packages (from torchvision->timm) (1.19.5)\n",
            "Installing collected packages: timm\n",
            "Successfully installed timm-0.4.12\n"
          ],
          "name": "stdout"
        }
      ]
    },
    {
      "cell_type": "code",
      "metadata": {
        "colab": {
          "base_uri": "https://localhost:8080/"
        },
        "id": "XL-Xpsh4-Ipd",
        "outputId": "2419a228-d1c0-4951-80f3-66a3e1b5c850"
      },
      "source": [
        ""
      ],
      "execution_count": null,
      "outputs": [
        {
          "output_type": "stream",
          "text": [
            "49 packages can be upgraded. Run 'apt list --upgradable' to see them.\n",
            "Reading package lists... Done\n",
            "Building dependency tree       \n",
            "Reading state information... Done\n",
            "The following package was automatically installed and is no longer required:\n",
            "  libnvidia-common-460\n",
            "Use 'apt autoremove' to remove it.\n",
            "The following NEW packages will be installed:\n",
            "  git-lfs\n",
            "0 upgraded, 1 newly installed, 0 to remove and 49 not upgraded.\n",
            "Need to get 2,129 kB of archives.\n",
            "After this operation, 7,662 kB of additional disk space will be used.\n",
            "Get:1 http://archive.ubuntu.com/ubuntu bionic/universe amd64 git-lfs amd64 2.3.4-1 [2,129 kB]\n",
            "Fetched 2,129 kB in 1s (1,623 kB/s)\n",
            "Selecting previously unselected package git-lfs.\n",
            "(Reading database ... 148486 files and directories currently installed.)\n",
            "Preparing to unpack .../git-lfs_2.3.4-1_amd64.deb ...\n",
            "Unpacking git-lfs (2.3.4-1) ...\n",
            "Setting up git-lfs (2.3.4-1) ...\n",
            "Processing triggers for man-db (2.8.3-2ubuntu0.1) ...\n",
            "Updated git hooks.\n",
            "Git LFS initialized.\n",
            "Git LFS: (3 of 3 files) 172.18 MB / 172.18 MB\n"
          ],
          "name": "stdout"
        }
      ]
    },
    {
      "cell_type": "code",
      "metadata": {
        "colab": {
          "base_uri": "https://localhost:8080/"
        },
        "id": "9UWFX0Pn9jjy",
        "outputId": "a6295f67-97fb-49da-b6d6-6772d20d7a4a"
      },
      "source": [
        "%cd /content/airborne-detection-starter-kit\n",
        "!apt update -qq && apt install git-lfs\n",
        "\n",
        "!git-lfs install\n",
        "!git-lfs pull\n",
        "\n",
        "clear_output()\n",
        "\n",
        "!pwd\n",
        "!ls -alh siam-mot/models\n",
        "!ls -alh siam-mot/configs/dla"
      ],
      "execution_count": null,
      "outputs": [
        {
          "output_type": "stream",
          "text": [
            "/content/airborne-detection-starter-kit\n",
            "total 92M\n",
            "drwxr-xr-x 2 root root 4.0K Aug 18 06:27 .\n",
            "drwxr-xr-x 7 root root 4.0K Aug 18 06:29 ..\n",
            "-rw-r--r-- 1 root root  92M Aug 18 06:35 DLA-34-FPN_box_track_aot_d4.pth\n",
            "total 16K\n",
            "drwxr-xr-x 2 root root 4.0K Aug 18 06:27 .\n",
            "drwxr-xr-x 3 root root 4.0K Aug 18 06:27 ..\n",
            "-rw-r--r-- 1 root root 1.8K Aug 18 06:27 DLA_34_FPN_AOT.yaml\n",
            "-rw-r--r-- 1 root root 1.6K Aug 18 06:27 DLA_34_FPN.yaml\n"
          ],
          "name": "stdout"
        }
      ]
    },
    {
      "cell_type": "code",
      "metadata": {
        "id": "yVz397nk7udx"
      },
      "source": [
        "# Download validation flights\n",
        "# - e0d815053c1c46cfbd0b586b72718feb\n",
        "# - ac23cb93c5c242d2b1bf0633fae9b1e6\n",
        "\n",
        "flight = dataset.get_flight_by_id(\"e0d815053c1c46cfbd0b586b72718feb\")\n",
        "flight.download()\n",
        "\n",
        "flight = dataset.get_flight_by_id(\"ac23cb93c5c242d2b1bf0633fae9b1e6\")\n",
        "flight.download()"
      ],
      "execution_count": null,
      "outputs": []
    },
    {
      "cell_type": "code",
      "metadata": {
        "colab": {
          "base_uri": "https://localhost:8080/"
        },
        "id": "FmLkSRP472jP",
        "outputId": "d51e4642-ebc4-4e58-ad0c-de75d0ba7f59"
      },
      "source": [
        "!PYTHONPATH=$PYTHONPATH:/content/airborne-detection-starter-kit/siam-mot python siam_mot_test.py"
      ],
      "execution_count": null,
      "outputs": [
        {
          "output_type": "stream",
          "text": [
            "INFO:maskrcnn_benchmark.utils.model_serialization:base_layer.0.weight                 loaded from base_layer.0.weight                 of shape (16, 3, 7, 7)\n",
            "INFO:maskrcnn_benchmark.utils.model_serialization:base_layer.1.bias                   loaded from base_layer.1.bias                   of shape (16,)\n",
            "INFO:maskrcnn_benchmark.utils.model_serialization:base_layer.1.running_mean           loaded from base_layer.1.running_mean           of shape (16,)\n",
            "INFO:maskrcnn_benchmark.utils.model_serialization:base_layer.1.running_var            loaded from base_layer.1.running_var            of shape (16,)\n",
            "INFO:maskrcnn_benchmark.utils.model_serialization:base_layer.1.weight                 loaded from base_layer.1.weight                 of shape (16,)\n",
            "INFO:maskrcnn_benchmark.utils.model_serialization:level0.0.weight                     loaded from level0.0.weight                     of shape (16, 16, 3, 3)\n",
            "INFO:maskrcnn_benchmark.utils.model_serialization:level0.1.bias                       loaded from level0.1.bias                       of shape (16,)\n",
            "INFO:maskrcnn_benchmark.utils.model_serialization:level0.1.running_mean               loaded from level0.1.running_mean               of shape (16,)\n",
            "INFO:maskrcnn_benchmark.utils.model_serialization:level0.1.running_var                loaded from level0.1.running_var                of shape (16,)\n",
            "INFO:maskrcnn_benchmark.utils.model_serialization:level0.1.weight                     loaded from level0.1.weight                     of shape (16,)\n",
            "INFO:maskrcnn_benchmark.utils.model_serialization:level1.0.weight                     loaded from level1.0.weight                     of shape (32, 16, 3, 3)\n",
            "INFO:maskrcnn_benchmark.utils.model_serialization:level1.1.bias                       loaded from level1.1.bias                       of shape (32,)\n",
            "INFO:maskrcnn_benchmark.utils.model_serialization:level1.1.running_mean               loaded from level1.1.running_mean               of shape (32,)\n",
            "INFO:maskrcnn_benchmark.utils.model_serialization:level1.1.running_var                loaded from level1.1.running_var                of shape (32,)\n",
            "INFO:maskrcnn_benchmark.utils.model_serialization:level1.1.weight                     loaded from level1.1.weight                     of shape (32,)\n",
            "INFO:maskrcnn_benchmark.utils.model_serialization:level2.project.0.weight             loaded from level2.project.0.weight             of shape (64, 32, 1, 1)\n",
            "INFO:maskrcnn_benchmark.utils.model_serialization:level2.project.1.bias               loaded from level2.project.1.bias               of shape (64,)\n",
            "INFO:maskrcnn_benchmark.utils.model_serialization:level2.project.1.running_mean       loaded from level2.project.1.running_mean       of shape (64,)\n",
            "INFO:maskrcnn_benchmark.utils.model_serialization:level2.project.1.running_var        loaded from level2.project.1.running_var        of shape (64,)\n",
            "INFO:maskrcnn_benchmark.utils.model_serialization:level2.project.1.weight             loaded from level2.project.1.weight             of shape (64,)\n",
            "INFO:maskrcnn_benchmark.utils.model_serialization:level2.root.bn.bias                 loaded from level2.root.bn.bias                 of shape (64,)\n",
            "INFO:maskrcnn_benchmark.utils.model_serialization:level2.root.bn.running_mean         loaded from level2.root.bn.running_mean         of shape (64,)\n",
            "INFO:maskrcnn_benchmark.utils.model_serialization:level2.root.bn.running_var          loaded from level2.root.bn.running_var          of shape (64,)\n",
            "INFO:maskrcnn_benchmark.utils.model_serialization:level2.root.bn.weight               loaded from level2.root.bn.weight               of shape (64,)\n",
            "INFO:maskrcnn_benchmark.utils.model_serialization:level2.root.conv.weight             loaded from level2.root.conv.weight             of shape (64, 128, 1, 1)\n",
            "INFO:maskrcnn_benchmark.utils.model_serialization:level2.tree1.bn1.bias               loaded from level2.tree1.bn1.bias               of shape (64,)\n",
            "INFO:maskrcnn_benchmark.utils.model_serialization:level2.tree1.bn1.running_mean       loaded from level2.tree1.bn1.running_mean       of shape (64,)\n",
            "INFO:maskrcnn_benchmark.utils.model_serialization:level2.tree1.bn1.running_var        loaded from level2.tree1.bn1.running_var        of shape (64,)\n",
            "INFO:maskrcnn_benchmark.utils.model_serialization:level2.tree1.bn1.weight             loaded from level2.tree1.bn1.weight             of shape (64,)\n",
            "INFO:maskrcnn_benchmark.utils.model_serialization:level2.tree1.bn2.bias               loaded from level2.tree1.bn2.bias               of shape (64,)\n",
            "INFO:maskrcnn_benchmark.utils.model_serialization:level2.tree1.bn2.running_mean       loaded from level2.tree1.bn2.running_mean       of shape (64,)\n",
            "INFO:maskrcnn_benchmark.utils.model_serialization:level2.tree1.bn2.running_var        loaded from level2.tree1.bn2.running_var        of shape (64,)\n",
            "INFO:maskrcnn_benchmark.utils.model_serialization:level2.tree1.bn2.weight             loaded from level2.tree1.bn2.weight             of shape (64,)\n",
            "INFO:maskrcnn_benchmark.utils.model_serialization:level2.tree1.conv1.weight           loaded from level2.tree1.conv1.weight           of shape (64, 32, 3, 3)\n",
            "INFO:maskrcnn_benchmark.utils.model_serialization:level2.tree1.conv2.weight           loaded from level2.tree1.conv2.weight           of shape (64, 64, 3, 3)\n",
            "INFO:maskrcnn_benchmark.utils.model_serialization:level2.tree2.bn1.bias               loaded from level2.tree2.bn1.bias               of shape (64,)\n",
            "INFO:maskrcnn_benchmark.utils.model_serialization:level2.tree2.bn1.running_mean       loaded from level2.tree2.bn1.running_mean       of shape (64,)\n",
            "INFO:maskrcnn_benchmark.utils.model_serialization:level2.tree2.bn1.running_var        loaded from level2.tree2.bn1.running_var        of shape (64,)\n",
            "INFO:maskrcnn_benchmark.utils.model_serialization:level2.tree2.bn1.weight             loaded from level2.tree2.bn1.weight             of shape (64,)\n",
            "INFO:maskrcnn_benchmark.utils.model_serialization:level2.tree2.bn2.bias               loaded from level2.tree2.bn2.bias               of shape (64,)\n",
            "INFO:maskrcnn_benchmark.utils.model_serialization:level2.tree2.bn2.running_mean       loaded from level2.tree2.bn2.running_mean       of shape (64,)\n",
            "INFO:maskrcnn_benchmark.utils.model_serialization:level2.tree2.bn2.running_var        loaded from level2.tree2.bn2.running_var        of shape (64,)\n",
            "INFO:maskrcnn_benchmark.utils.model_serialization:level2.tree2.bn2.weight             loaded from level2.tree2.bn2.weight             of shape (64,)\n",
            "INFO:maskrcnn_benchmark.utils.model_serialization:level2.tree2.conv1.weight           loaded from level2.tree2.conv1.weight           of shape (64, 64, 3, 3)\n",
            "INFO:maskrcnn_benchmark.utils.model_serialization:level2.tree2.conv2.weight           loaded from level2.tree2.conv2.weight           of shape (64, 64, 3, 3)\n",
            "INFO:maskrcnn_benchmark.utils.model_serialization:level3.project.0.weight             loaded from level3.project.0.weight             of shape (128, 64, 1, 1)\n",
            "INFO:maskrcnn_benchmark.utils.model_serialization:level3.project.1.bias               loaded from level3.project.1.bias               of shape (128,)\n",
            "INFO:maskrcnn_benchmark.utils.model_serialization:level3.project.1.running_mean       loaded from level3.project.1.running_mean       of shape (128,)\n",
            "INFO:maskrcnn_benchmark.utils.model_serialization:level3.project.1.running_var        loaded from level3.project.1.running_var        of shape (128,)\n",
            "INFO:maskrcnn_benchmark.utils.model_serialization:level3.project.1.weight             loaded from level3.project.1.weight             of shape (128,)\n",
            "INFO:maskrcnn_benchmark.utils.model_serialization:level3.tree1.project.0.weight       loaded from level3.tree1.project.0.weight       of shape (128, 64, 1, 1)\n",
            "INFO:maskrcnn_benchmark.utils.model_serialization:level3.tree1.project.1.bias         loaded from level3.tree1.project.1.bias         of shape (128,)\n",
            "INFO:maskrcnn_benchmark.utils.model_serialization:level3.tree1.project.1.running_mean loaded from level3.tree1.project.1.running_mean of shape (128,)\n",
            "INFO:maskrcnn_benchmark.utils.model_serialization:level3.tree1.project.1.running_var  loaded from level3.tree1.project.1.running_var  of shape (128,)\n",
            "INFO:maskrcnn_benchmark.utils.model_serialization:level3.tree1.project.1.weight       loaded from level3.tree1.project.1.weight       of shape (128,)\n",
            "INFO:maskrcnn_benchmark.utils.model_serialization:level3.tree1.root.bn.bias           loaded from level3.tree1.root.bn.bias           of shape (128,)\n",
            "INFO:maskrcnn_benchmark.utils.model_serialization:level3.tree1.root.bn.running_mean   loaded from level3.tree1.root.bn.running_mean   of shape (128,)\n",
            "INFO:maskrcnn_benchmark.utils.model_serialization:level3.tree1.root.bn.running_var    loaded from level3.tree1.root.bn.running_var    of shape (128,)\n",
            "INFO:maskrcnn_benchmark.utils.model_serialization:level3.tree1.root.bn.weight         loaded from level3.tree1.root.bn.weight         of shape (128,)\n",
            "INFO:maskrcnn_benchmark.utils.model_serialization:level3.tree1.root.conv.weight       loaded from level3.tree1.root.conv.weight       of shape (128, 256, 1, 1)\n",
            "INFO:maskrcnn_benchmark.utils.model_serialization:level3.tree1.tree1.bn1.bias         loaded from level3.tree1.tree1.bn1.bias         of shape (128,)\n",
            "INFO:maskrcnn_benchmark.utils.model_serialization:level3.tree1.tree1.bn1.running_mean loaded from level3.tree1.tree1.bn1.running_mean of shape (128,)\n",
            "INFO:maskrcnn_benchmark.utils.model_serialization:level3.tree1.tree1.bn1.running_var  loaded from level3.tree1.tree1.bn1.running_var  of shape (128,)\n",
            "INFO:maskrcnn_benchmark.utils.model_serialization:level3.tree1.tree1.bn1.weight       loaded from level3.tree1.tree1.bn1.weight       of shape (128,)\n",
            "INFO:maskrcnn_benchmark.utils.model_serialization:level3.tree1.tree1.bn2.bias         loaded from level3.tree1.tree1.bn2.bias         of shape (128,)\n",
            "INFO:maskrcnn_benchmark.utils.model_serialization:level3.tree1.tree1.bn2.running_mean loaded from level3.tree1.tree1.bn2.running_mean of shape (128,)\n",
            "INFO:maskrcnn_benchmark.utils.model_serialization:level3.tree1.tree1.bn2.running_var  loaded from level3.tree1.tree1.bn2.running_var  of shape (128,)\n",
            "INFO:maskrcnn_benchmark.utils.model_serialization:level3.tree1.tree1.bn2.weight       loaded from level3.tree1.tree1.bn2.weight       of shape (128,)\n",
            "INFO:maskrcnn_benchmark.utils.model_serialization:level3.tree1.tree1.conv1.weight     loaded from level3.tree1.tree1.conv1.weight     of shape (128, 64, 3, 3)\n",
            "INFO:maskrcnn_benchmark.utils.model_serialization:level3.tree1.tree1.conv2.weight     loaded from level3.tree1.tree1.conv2.weight     of shape (128, 128, 3, 3)\n",
            "INFO:maskrcnn_benchmark.utils.model_serialization:level3.tree1.tree2.bn1.bias         loaded from level3.tree1.tree2.bn1.bias         of shape (128,)\n",
            "INFO:maskrcnn_benchmark.utils.model_serialization:level3.tree1.tree2.bn1.running_mean loaded from level3.tree1.tree2.bn1.running_mean of shape (128,)\n",
            "INFO:maskrcnn_benchmark.utils.model_serialization:level3.tree1.tree2.bn1.running_var  loaded from level3.tree1.tree2.bn1.running_var  of shape (128,)\n",
            "INFO:maskrcnn_benchmark.utils.model_serialization:level3.tree1.tree2.bn1.weight       loaded from level3.tree1.tree2.bn1.weight       of shape (128,)\n",
            "INFO:maskrcnn_benchmark.utils.model_serialization:level3.tree1.tree2.bn2.bias         loaded from level3.tree1.tree2.bn2.bias         of shape (128,)\n",
            "INFO:maskrcnn_benchmark.utils.model_serialization:level3.tree1.tree2.bn2.running_mean loaded from level3.tree1.tree2.bn2.running_mean of shape (128,)\n",
            "INFO:maskrcnn_benchmark.utils.model_serialization:level3.tree1.tree2.bn2.running_var  loaded from level3.tree1.tree2.bn2.running_var  of shape (128,)\n",
            "INFO:maskrcnn_benchmark.utils.model_serialization:level3.tree1.tree2.bn2.weight       loaded from level3.tree1.tree2.bn2.weight       of shape (128,)\n",
            "INFO:maskrcnn_benchmark.utils.model_serialization:level3.tree1.tree2.conv1.weight     loaded from level3.tree1.tree2.conv1.weight     of shape (128, 128, 3, 3)\n",
            "INFO:maskrcnn_benchmark.utils.model_serialization:level3.tree1.tree2.conv2.weight     loaded from level3.tree1.tree2.conv2.weight     of shape (128, 128, 3, 3)\n",
            "INFO:maskrcnn_benchmark.utils.model_serialization:level3.tree2.root.bn.bias           loaded from level3.tree2.root.bn.bias           of shape (128,)\n",
            "INFO:maskrcnn_benchmark.utils.model_serialization:level3.tree2.root.bn.running_mean   loaded from level3.tree2.root.bn.running_mean   of shape (128,)\n",
            "INFO:maskrcnn_benchmark.utils.model_serialization:level3.tree2.root.bn.running_var    loaded from level3.tree2.root.bn.running_var    of shape (128,)\n",
            "INFO:maskrcnn_benchmark.utils.model_serialization:level3.tree2.root.bn.weight         loaded from level3.tree2.root.bn.weight         of shape (128,)\n",
            "INFO:maskrcnn_benchmark.utils.model_serialization:level3.tree2.root.conv.weight       loaded from level3.tree2.root.conv.weight       of shape (128, 448, 1, 1)\n",
            "INFO:maskrcnn_benchmark.utils.model_serialization:level3.tree2.tree1.bn1.bias         loaded from level3.tree2.tree1.bn1.bias         of shape (128,)\n",
            "INFO:maskrcnn_benchmark.utils.model_serialization:level3.tree2.tree1.bn1.running_mean loaded from level3.tree2.tree1.bn1.running_mean of shape (128,)\n",
            "INFO:maskrcnn_benchmark.utils.model_serialization:level3.tree2.tree1.bn1.running_var  loaded from level3.tree2.tree1.bn1.running_var  of shape (128,)\n",
            "INFO:maskrcnn_benchmark.utils.model_serialization:level3.tree2.tree1.bn1.weight       loaded from level3.tree2.tree1.bn1.weight       of shape (128,)\n",
            "INFO:maskrcnn_benchmark.utils.model_serialization:level3.tree2.tree1.bn2.bias         loaded from level3.tree2.tree1.bn2.bias         of shape (128,)\n",
            "INFO:maskrcnn_benchmark.utils.model_serialization:level3.tree2.tree1.bn2.running_mean loaded from level3.tree2.tree1.bn2.running_mean of shape (128,)\n",
            "INFO:maskrcnn_benchmark.utils.model_serialization:level3.tree2.tree1.bn2.running_var  loaded from level3.tree2.tree1.bn2.running_var  of shape (128,)\n",
            "INFO:maskrcnn_benchmark.utils.model_serialization:level3.tree2.tree1.bn2.weight       loaded from level3.tree2.tree1.bn2.weight       of shape (128,)\n",
            "INFO:maskrcnn_benchmark.utils.model_serialization:level3.tree2.tree1.conv1.weight     loaded from level3.tree2.tree1.conv1.weight     of shape (128, 128, 3, 3)\n",
            "INFO:maskrcnn_benchmark.utils.model_serialization:level3.tree2.tree1.conv2.weight     loaded from level3.tree2.tree1.conv2.weight     of shape (128, 128, 3, 3)\n",
            "INFO:maskrcnn_benchmark.utils.model_serialization:level3.tree2.tree2.bn1.bias         loaded from level3.tree2.tree2.bn1.bias         of shape (128,)\n",
            "INFO:maskrcnn_benchmark.utils.model_serialization:level3.tree2.tree2.bn1.running_mean loaded from level3.tree2.tree2.bn1.running_mean of shape (128,)\n",
            "INFO:maskrcnn_benchmark.utils.model_serialization:level3.tree2.tree2.bn1.running_var  loaded from level3.tree2.tree2.bn1.running_var  of shape (128,)\n",
            "INFO:maskrcnn_benchmark.utils.model_serialization:level3.tree2.tree2.bn1.weight       loaded from level3.tree2.tree2.bn1.weight       of shape (128,)\n",
            "INFO:maskrcnn_benchmark.utils.model_serialization:level3.tree2.tree2.bn2.bias         loaded from level3.tree2.tree2.bn2.bias         of shape (128,)\n",
            "INFO:maskrcnn_benchmark.utils.model_serialization:level3.tree2.tree2.bn2.running_mean loaded from level3.tree2.tree2.bn2.running_mean of shape (128,)\n",
            "INFO:maskrcnn_benchmark.utils.model_serialization:level3.tree2.tree2.bn2.running_var  loaded from level3.tree2.tree2.bn2.running_var  of shape (128,)\n",
            "INFO:maskrcnn_benchmark.utils.model_serialization:level3.tree2.tree2.bn2.weight       loaded from level3.tree2.tree2.bn2.weight       of shape (128,)\n",
            "INFO:maskrcnn_benchmark.utils.model_serialization:level3.tree2.tree2.conv1.weight     loaded from level3.tree2.tree2.conv1.weight     of shape (128, 128, 3, 3)\n",
            "INFO:maskrcnn_benchmark.utils.model_serialization:level3.tree2.tree2.conv2.weight     loaded from level3.tree2.tree2.conv2.weight     of shape (128, 128, 3, 3)\n",
            "INFO:maskrcnn_benchmark.utils.model_serialization:level4.project.0.weight             loaded from level4.project.0.weight             of shape (256, 128, 1, 1)\n",
            "INFO:maskrcnn_benchmark.utils.model_serialization:level4.project.1.bias               loaded from level4.project.1.bias               of shape (256,)\n",
            "INFO:maskrcnn_benchmark.utils.model_serialization:level4.project.1.running_mean       loaded from level4.project.1.running_mean       of shape (256,)\n",
            "INFO:maskrcnn_benchmark.utils.model_serialization:level4.project.1.running_var        loaded from level4.project.1.running_var        of shape (256,)\n",
            "INFO:maskrcnn_benchmark.utils.model_serialization:level4.project.1.weight             loaded from level4.project.1.weight             of shape (256,)\n",
            "INFO:maskrcnn_benchmark.utils.model_serialization:level4.tree1.project.0.weight       loaded from level4.tree1.project.0.weight       of shape (256, 128, 1, 1)\n",
            "INFO:maskrcnn_benchmark.utils.model_serialization:level4.tree1.project.1.bias         loaded from level4.tree1.project.1.bias         of shape (256,)\n",
            "INFO:maskrcnn_benchmark.utils.model_serialization:level4.tree1.project.1.running_mean loaded from level4.tree1.project.1.running_mean of shape (256,)\n",
            "INFO:maskrcnn_benchmark.utils.model_serialization:level4.tree1.project.1.running_var  loaded from level4.tree1.project.1.running_var  of shape (256,)\n",
            "INFO:maskrcnn_benchmark.utils.model_serialization:level4.tree1.project.1.weight       loaded from level4.tree1.project.1.weight       of shape (256,)\n",
            "INFO:maskrcnn_benchmark.utils.model_serialization:level4.tree1.root.bn.bias           loaded from level4.tree1.root.bn.bias           of shape (256,)\n",
            "INFO:maskrcnn_benchmark.utils.model_serialization:level4.tree1.root.bn.running_mean   loaded from level4.tree1.root.bn.running_mean   of shape (256,)\n",
            "INFO:maskrcnn_benchmark.utils.model_serialization:level4.tree1.root.bn.running_var    loaded from level4.tree1.root.bn.running_var    of shape (256,)\n",
            "INFO:maskrcnn_benchmark.utils.model_serialization:level4.tree1.root.bn.weight         loaded from level4.tree1.root.bn.weight         of shape (256,)\n",
            "INFO:maskrcnn_benchmark.utils.model_serialization:level4.tree1.root.conv.weight       loaded from level4.tree1.root.conv.weight       of shape (256, 512, 1, 1)\n",
            "INFO:maskrcnn_benchmark.utils.model_serialization:level4.tree1.tree1.bn1.bias         loaded from level4.tree1.tree1.bn1.bias         of shape (256,)\n",
            "INFO:maskrcnn_benchmark.utils.model_serialization:level4.tree1.tree1.bn1.running_mean loaded from level4.tree1.tree1.bn1.running_mean of shape (256,)\n",
            "INFO:maskrcnn_benchmark.utils.model_serialization:level4.tree1.tree1.bn1.running_var  loaded from level4.tree1.tree1.bn1.running_var  of shape (256,)\n",
            "INFO:maskrcnn_benchmark.utils.model_serialization:level4.tree1.tree1.bn1.weight       loaded from level4.tree1.tree1.bn1.weight       of shape (256,)\n",
            "INFO:maskrcnn_benchmark.utils.model_serialization:level4.tree1.tree1.bn2.bias         loaded from level4.tree1.tree1.bn2.bias         of shape (256,)\n",
            "INFO:maskrcnn_benchmark.utils.model_serialization:level4.tree1.tree1.bn2.running_mean loaded from level4.tree1.tree1.bn2.running_mean of shape (256,)\n",
            "INFO:maskrcnn_benchmark.utils.model_serialization:level4.tree1.tree1.bn2.running_var  loaded from level4.tree1.tree1.bn2.running_var  of shape (256,)\n",
            "INFO:maskrcnn_benchmark.utils.model_serialization:level4.tree1.tree1.bn2.weight       loaded from level4.tree1.tree1.bn2.weight       of shape (256,)\n",
            "INFO:maskrcnn_benchmark.utils.model_serialization:level4.tree1.tree1.conv1.weight     loaded from level4.tree1.tree1.conv1.weight     of shape (256, 128, 3, 3)\n",
            "INFO:maskrcnn_benchmark.utils.model_serialization:level4.tree1.tree1.conv2.weight     loaded from level4.tree1.tree1.conv2.weight     of shape (256, 256, 3, 3)\n",
            "INFO:maskrcnn_benchmark.utils.model_serialization:level4.tree1.tree2.bn1.bias         loaded from level4.tree1.tree2.bn1.bias         of shape (256,)\n",
            "INFO:maskrcnn_benchmark.utils.model_serialization:level4.tree1.tree2.bn1.running_mean loaded from level4.tree1.tree2.bn1.running_mean of shape (256,)\n",
            "INFO:maskrcnn_benchmark.utils.model_serialization:level4.tree1.tree2.bn1.running_var  loaded from level4.tree1.tree2.bn1.running_var  of shape (256,)\n",
            "INFO:maskrcnn_benchmark.utils.model_serialization:level4.tree1.tree2.bn1.weight       loaded from level4.tree1.tree2.bn1.weight       of shape (256,)\n",
            "INFO:maskrcnn_benchmark.utils.model_serialization:level4.tree1.tree2.bn2.bias         loaded from level4.tree1.tree2.bn2.bias         of shape (256,)\n",
            "INFO:maskrcnn_benchmark.utils.model_serialization:level4.tree1.tree2.bn2.running_mean loaded from level4.tree1.tree2.bn2.running_mean of shape (256,)\n",
            "INFO:maskrcnn_benchmark.utils.model_serialization:level4.tree1.tree2.bn2.running_var  loaded from level4.tree1.tree2.bn2.running_var  of shape (256,)\n",
            "INFO:maskrcnn_benchmark.utils.model_serialization:level4.tree1.tree2.bn2.weight       loaded from level4.tree1.tree2.bn2.weight       of shape (256,)\n",
            "INFO:maskrcnn_benchmark.utils.model_serialization:level4.tree1.tree2.conv1.weight     loaded from level4.tree1.tree2.conv1.weight     of shape (256, 256, 3, 3)\n",
            "INFO:maskrcnn_benchmark.utils.model_serialization:level4.tree1.tree2.conv2.weight     loaded from level4.tree1.tree2.conv2.weight     of shape (256, 256, 3, 3)\n",
            "INFO:maskrcnn_benchmark.utils.model_serialization:level4.tree2.root.bn.bias           loaded from level4.tree2.root.bn.bias           of shape (256,)\n",
            "INFO:maskrcnn_benchmark.utils.model_serialization:level4.tree2.root.bn.running_mean   loaded from level4.tree2.root.bn.running_mean   of shape (256,)\n",
            "INFO:maskrcnn_benchmark.utils.model_serialization:level4.tree2.root.bn.running_var    loaded from level4.tree2.root.bn.running_var    of shape (256,)\n",
            "INFO:maskrcnn_benchmark.utils.model_serialization:level4.tree2.root.bn.weight         loaded from level4.tree2.root.bn.weight         of shape (256,)\n",
            "INFO:maskrcnn_benchmark.utils.model_serialization:level4.tree2.root.conv.weight       loaded from level4.tree2.root.conv.weight       of shape (256, 896, 1, 1)\n",
            "INFO:maskrcnn_benchmark.utils.model_serialization:level4.tree2.tree1.bn1.bias         loaded from level4.tree2.tree1.bn1.bias         of shape (256,)\n",
            "INFO:maskrcnn_benchmark.utils.model_serialization:level4.tree2.tree1.bn1.running_mean loaded from level4.tree2.tree1.bn1.running_mean of shape (256,)\n",
            "INFO:maskrcnn_benchmark.utils.model_serialization:level4.tree2.tree1.bn1.running_var  loaded from level4.tree2.tree1.bn1.running_var  of shape (256,)\n",
            "INFO:maskrcnn_benchmark.utils.model_serialization:level4.tree2.tree1.bn1.weight       loaded from level4.tree2.tree1.bn1.weight       of shape (256,)\n",
            "INFO:maskrcnn_benchmark.utils.model_serialization:level4.tree2.tree1.bn2.bias         loaded from level4.tree2.tree1.bn2.bias         of shape (256,)\n",
            "INFO:maskrcnn_benchmark.utils.model_serialization:level4.tree2.tree1.bn2.running_mean loaded from level4.tree2.tree1.bn2.running_mean of shape (256,)\n",
            "INFO:maskrcnn_benchmark.utils.model_serialization:level4.tree2.tree1.bn2.running_var  loaded from level4.tree2.tree1.bn2.running_var  of shape (256,)\n",
            "INFO:maskrcnn_benchmark.utils.model_serialization:level4.tree2.tree1.bn2.weight       loaded from level4.tree2.tree1.bn2.weight       of shape (256,)\n",
            "INFO:maskrcnn_benchmark.utils.model_serialization:level4.tree2.tree1.conv1.weight     loaded from level4.tree2.tree1.conv1.weight     of shape (256, 256, 3, 3)\n",
            "INFO:maskrcnn_benchmark.utils.model_serialization:level4.tree2.tree1.conv2.weight     loaded from level4.tree2.tree1.conv2.weight     of shape (256, 256, 3, 3)\n",
            "INFO:maskrcnn_benchmark.utils.model_serialization:level4.tree2.tree2.bn1.bias         loaded from level4.tree2.tree2.bn1.bias         of shape (256,)\n",
            "INFO:maskrcnn_benchmark.utils.model_serialization:level4.tree2.tree2.bn1.running_mean loaded from level4.tree2.tree2.bn1.running_mean of shape (256,)\n",
            "INFO:maskrcnn_benchmark.utils.model_serialization:level4.tree2.tree2.bn1.running_var  loaded from level4.tree2.tree2.bn1.running_var  of shape (256,)\n",
            "INFO:maskrcnn_benchmark.utils.model_serialization:level4.tree2.tree2.bn1.weight       loaded from level4.tree2.tree2.bn1.weight       of shape (256,)\n",
            "INFO:maskrcnn_benchmark.utils.model_serialization:level4.tree2.tree2.bn2.bias         loaded from level4.tree2.tree2.bn2.bias         of shape (256,)\n",
            "INFO:maskrcnn_benchmark.utils.model_serialization:level4.tree2.tree2.bn2.running_mean loaded from level4.tree2.tree2.bn2.running_mean of shape (256,)\n",
            "INFO:maskrcnn_benchmark.utils.model_serialization:level4.tree2.tree2.bn2.running_var  loaded from level4.tree2.tree2.bn2.running_var  of shape (256,)\n",
            "INFO:maskrcnn_benchmark.utils.model_serialization:level4.tree2.tree2.bn2.weight       loaded from level4.tree2.tree2.bn2.weight       of shape (256,)\n",
            "INFO:maskrcnn_benchmark.utils.model_serialization:level4.tree2.tree2.conv1.weight     loaded from level4.tree2.tree2.conv1.weight     of shape (256, 256, 3, 3)\n",
            "INFO:maskrcnn_benchmark.utils.model_serialization:level4.tree2.tree2.conv2.weight     loaded from level4.tree2.tree2.conv2.weight     of shape (256, 256, 3, 3)\n",
            "INFO:maskrcnn_benchmark.utils.model_serialization:level5.project.0.weight             loaded from level5.project.0.weight             of shape (512, 256, 1, 1)\n",
            "INFO:maskrcnn_benchmark.utils.model_serialization:level5.project.1.bias               loaded from level5.project.1.bias               of shape (512,)\n",
            "INFO:maskrcnn_benchmark.utils.model_serialization:level5.project.1.running_mean       loaded from level5.project.1.running_mean       of shape (512,)\n",
            "INFO:maskrcnn_benchmark.utils.model_serialization:level5.project.1.running_var        loaded from level5.project.1.running_var        of shape (512,)\n",
            "INFO:maskrcnn_benchmark.utils.model_serialization:level5.project.1.weight             loaded from level5.project.1.weight             of shape (512,)\n",
            "INFO:maskrcnn_benchmark.utils.model_serialization:level5.root.bn.bias                 loaded from level5.root.bn.bias                 of shape (512,)\n",
            "INFO:maskrcnn_benchmark.utils.model_serialization:level5.root.bn.running_mean         loaded from level5.root.bn.running_mean         of shape (512,)\n",
            "INFO:maskrcnn_benchmark.utils.model_serialization:level5.root.bn.running_var          loaded from level5.root.bn.running_var          of shape (512,)\n",
            "INFO:maskrcnn_benchmark.utils.model_serialization:level5.root.bn.weight               loaded from level5.root.bn.weight               of shape (512,)\n",
            "INFO:maskrcnn_benchmark.utils.model_serialization:level5.root.conv.weight             loaded from level5.root.conv.weight             of shape (512, 1280, 1, 1)\n",
            "INFO:maskrcnn_benchmark.utils.model_serialization:level5.tree1.bn1.bias               loaded from level5.tree1.bn1.bias               of shape (512,)\n",
            "INFO:maskrcnn_benchmark.utils.model_serialization:level5.tree1.bn1.running_mean       loaded from level5.tree1.bn1.running_mean       of shape (512,)\n",
            "INFO:maskrcnn_benchmark.utils.model_serialization:level5.tree1.bn1.running_var        loaded from level5.tree1.bn1.running_var        of shape (512,)\n",
            "INFO:maskrcnn_benchmark.utils.model_serialization:level5.tree1.bn1.weight             loaded from level5.tree1.bn1.weight             of shape (512,)\n",
            "INFO:maskrcnn_benchmark.utils.model_serialization:level5.tree1.bn2.bias               loaded from level5.tree1.bn2.bias               of shape (512,)\n",
            "INFO:maskrcnn_benchmark.utils.model_serialization:level5.tree1.bn2.running_mean       loaded from level5.tree1.bn2.running_mean       of shape (512,)\n",
            "INFO:maskrcnn_benchmark.utils.model_serialization:level5.tree1.bn2.running_var        loaded from level5.tree1.bn2.running_var        of shape (512,)\n",
            "INFO:maskrcnn_benchmark.utils.model_serialization:level5.tree1.bn2.weight             loaded from level5.tree1.bn2.weight             of shape (512,)\n",
            "INFO:maskrcnn_benchmark.utils.model_serialization:level5.tree1.conv1.weight           loaded from level5.tree1.conv1.weight           of shape (512, 256, 3, 3)\n",
            "INFO:maskrcnn_benchmark.utils.model_serialization:level5.tree1.conv2.weight           loaded from level5.tree1.conv2.weight           of shape (512, 512, 3, 3)\n",
            "INFO:maskrcnn_benchmark.utils.model_serialization:level5.tree2.bn1.bias               loaded from level5.tree2.bn1.bias               of shape (512,)\n",
            "INFO:maskrcnn_benchmark.utils.model_serialization:level5.tree2.bn1.running_mean       loaded from level5.tree2.bn1.running_mean       of shape (512,)\n",
            "INFO:maskrcnn_benchmark.utils.model_serialization:level5.tree2.bn1.running_var        loaded from level5.tree2.bn1.running_var        of shape (512,)\n",
            "INFO:maskrcnn_benchmark.utils.model_serialization:level5.tree2.bn1.weight             loaded from level5.tree2.bn1.weight             of shape (512,)\n",
            "INFO:maskrcnn_benchmark.utils.model_serialization:level5.tree2.bn2.bias               loaded from level5.tree2.bn2.bias               of shape (512,)\n",
            "INFO:maskrcnn_benchmark.utils.model_serialization:level5.tree2.bn2.running_mean       loaded from level5.tree2.bn2.running_mean       of shape (512,)\n",
            "INFO:maskrcnn_benchmark.utils.model_serialization:level5.tree2.bn2.running_var        loaded from level5.tree2.bn2.running_var        of shape (512,)\n",
            "INFO:maskrcnn_benchmark.utils.model_serialization:level5.tree2.bn2.weight             loaded from level5.tree2.bn2.weight             of shape (512,)\n",
            "INFO:maskrcnn_benchmark.utils.model_serialization:level5.tree2.conv1.weight           loaded from level5.tree2.conv1.weight           of shape (512, 512, 3, 3)\n",
            "INFO:maskrcnn_benchmark.utils.model_serialization:level5.tree2.conv2.weight           loaded from level5.tree2.conv2.weight           of shape (512, 512, 3, 3)\n",
            "INFO:maskrcnn_benchmark.utils.checkpoint:Loading checkpoint from /content/airborne-detection-starter-kit/siam-mot/models/DLA-34-FPN_box_track_aot_d4.pth\n",
            "INFO:maskrcnn_benchmark.utils.model_serialization:backbone.body.base_layer.0.weight                    loaded from backbone.body.base_layer.0.weight                    of shape (16, 3, 7, 7)\n",
            "INFO:maskrcnn_benchmark.utils.model_serialization:backbone.body.base_layer.1.bias                      loaded from backbone.body.base_layer.1.bias                      of shape (16,)\n",
            "INFO:maskrcnn_benchmark.utils.model_serialization:backbone.body.base_layer.1.running_mean              loaded from backbone.body.base_layer.1.running_mean              of shape (16,)\n",
            "INFO:maskrcnn_benchmark.utils.model_serialization:backbone.body.base_layer.1.running_var               loaded from backbone.body.base_layer.1.running_var               of shape (16,)\n",
            "INFO:maskrcnn_benchmark.utils.model_serialization:backbone.body.base_layer.1.weight                    loaded from backbone.body.base_layer.1.weight                    of shape (16,)\n",
            "INFO:maskrcnn_benchmark.utils.model_serialization:backbone.body.level0.0.weight                        loaded from backbone.body.level0.0.weight                        of shape (16, 16, 3, 3)\n",
            "INFO:maskrcnn_benchmark.utils.model_serialization:backbone.body.level0.1.bias                          loaded from backbone.body.level0.1.bias                          of shape (16,)\n",
            "INFO:maskrcnn_benchmark.utils.model_serialization:backbone.body.level0.1.running_mean                  loaded from backbone.body.level0.1.running_mean                  of shape (16,)\n",
            "INFO:maskrcnn_benchmark.utils.model_serialization:backbone.body.level0.1.running_var                   loaded from backbone.body.level0.1.running_var                   of shape (16,)\n",
            "INFO:maskrcnn_benchmark.utils.model_serialization:backbone.body.level0.1.weight                        loaded from backbone.body.level0.1.weight                        of shape (16,)\n",
            "INFO:maskrcnn_benchmark.utils.model_serialization:backbone.body.level1.0.weight                        loaded from backbone.body.level1.0.weight                        of shape (32, 16, 3, 3)\n",
            "INFO:maskrcnn_benchmark.utils.model_serialization:backbone.body.level1.1.bias                          loaded from backbone.body.level1.1.bias                          of shape (32,)\n",
            "INFO:maskrcnn_benchmark.utils.model_serialization:backbone.body.level1.1.running_mean                  loaded from backbone.body.level1.1.running_mean                  of shape (32,)\n",
            "INFO:maskrcnn_benchmark.utils.model_serialization:backbone.body.level1.1.running_var                   loaded from backbone.body.level1.1.running_var                   of shape (32,)\n",
            "INFO:maskrcnn_benchmark.utils.model_serialization:backbone.body.level1.1.weight                        loaded from backbone.body.level1.1.weight                        of shape (32,)\n",
            "INFO:maskrcnn_benchmark.utils.model_serialization:backbone.body.level2.project.0.weight                loaded from backbone.body.level2.project.0.weight                of shape (64, 32, 1, 1)\n",
            "INFO:maskrcnn_benchmark.utils.model_serialization:backbone.body.level2.project.1.bias                  loaded from backbone.body.level2.project.1.bias                  of shape (64,)\n",
            "INFO:maskrcnn_benchmark.utils.model_serialization:backbone.body.level2.project.1.running_mean          loaded from backbone.body.level2.project.1.running_mean          of shape (64,)\n",
            "INFO:maskrcnn_benchmark.utils.model_serialization:backbone.body.level2.project.1.running_var           loaded from backbone.body.level2.project.1.running_var           of shape (64,)\n",
            "INFO:maskrcnn_benchmark.utils.model_serialization:backbone.body.level2.project.1.weight                loaded from backbone.body.level2.project.1.weight                of shape (64,)\n",
            "INFO:maskrcnn_benchmark.utils.model_serialization:backbone.body.level2.root.bn.bias                    loaded from backbone.body.level2.root.bn.bias                    of shape (64,)\n",
            "INFO:maskrcnn_benchmark.utils.model_serialization:backbone.body.level2.root.bn.running_mean            loaded from backbone.body.level2.root.bn.running_mean            of shape (64,)\n",
            "INFO:maskrcnn_benchmark.utils.model_serialization:backbone.body.level2.root.bn.running_var             loaded from backbone.body.level2.root.bn.running_var             of shape (64,)\n",
            "INFO:maskrcnn_benchmark.utils.model_serialization:backbone.body.level2.root.bn.weight                  loaded from backbone.body.level2.root.bn.weight                  of shape (64,)\n",
            "INFO:maskrcnn_benchmark.utils.model_serialization:backbone.body.level2.root.conv.weight                loaded from backbone.body.level2.root.conv.weight                of shape (64, 128, 1, 1)\n",
            "INFO:maskrcnn_benchmark.utils.model_serialization:backbone.body.level2.tree1.bn1.bias                  loaded from backbone.body.level2.tree1.bn1.bias                  of shape (64,)\n",
            "INFO:maskrcnn_benchmark.utils.model_serialization:backbone.body.level2.tree1.bn1.running_mean          loaded from backbone.body.level2.tree1.bn1.running_mean          of shape (64,)\n",
            "INFO:maskrcnn_benchmark.utils.model_serialization:backbone.body.level2.tree1.bn1.running_var           loaded from backbone.body.level2.tree1.bn1.running_var           of shape (64,)\n",
            "INFO:maskrcnn_benchmark.utils.model_serialization:backbone.body.level2.tree1.bn1.weight                loaded from backbone.body.level2.tree1.bn1.weight                of shape (64,)\n",
            "INFO:maskrcnn_benchmark.utils.model_serialization:backbone.body.level2.tree1.bn2.bias                  loaded from backbone.body.level2.tree1.bn2.bias                  of shape (64,)\n",
            "INFO:maskrcnn_benchmark.utils.model_serialization:backbone.body.level2.tree1.bn2.running_mean          loaded from backbone.body.level2.tree1.bn2.running_mean          of shape (64,)\n",
            "INFO:maskrcnn_benchmark.utils.model_serialization:backbone.body.level2.tree1.bn2.running_var           loaded from backbone.body.level2.tree1.bn2.running_var           of shape (64,)\n",
            "INFO:maskrcnn_benchmark.utils.model_serialization:backbone.body.level2.tree1.bn2.weight                loaded from backbone.body.level2.tree1.bn2.weight                of shape (64,)\n",
            "INFO:maskrcnn_benchmark.utils.model_serialization:backbone.body.level2.tree1.conv1.weight              loaded from backbone.body.level2.tree1.conv1.weight              of shape (64, 32, 3, 3)\n",
            "INFO:maskrcnn_benchmark.utils.model_serialization:backbone.body.level2.tree1.conv2.weight              loaded from backbone.body.level2.tree1.conv2.weight              of shape (64, 64, 3, 3)\n",
            "INFO:maskrcnn_benchmark.utils.model_serialization:backbone.body.level2.tree2.bn1.bias                  loaded from backbone.body.level2.tree2.bn1.bias                  of shape (64,)\n",
            "INFO:maskrcnn_benchmark.utils.model_serialization:backbone.body.level2.tree2.bn1.running_mean          loaded from backbone.body.level2.tree2.bn1.running_mean          of shape (64,)\n",
            "INFO:maskrcnn_benchmark.utils.model_serialization:backbone.body.level2.tree2.bn1.running_var           loaded from backbone.body.level2.tree2.bn1.running_var           of shape (64,)\n",
            "INFO:maskrcnn_benchmark.utils.model_serialization:backbone.body.level2.tree2.bn1.weight                loaded from backbone.body.level2.tree2.bn1.weight                of shape (64,)\n",
            "INFO:maskrcnn_benchmark.utils.model_serialization:backbone.body.level2.tree2.bn2.bias                  loaded from backbone.body.level2.tree2.bn2.bias                  of shape (64,)\n",
            "INFO:maskrcnn_benchmark.utils.model_serialization:backbone.body.level2.tree2.bn2.running_mean          loaded from backbone.body.level2.tree2.bn2.running_mean          of shape (64,)\n",
            "INFO:maskrcnn_benchmark.utils.model_serialization:backbone.body.level2.tree2.bn2.running_var           loaded from backbone.body.level2.tree2.bn2.running_var           of shape (64,)\n",
            "INFO:maskrcnn_benchmark.utils.model_serialization:backbone.body.level2.tree2.bn2.weight                loaded from backbone.body.level2.tree2.bn2.weight                of shape (64,)\n",
            "INFO:maskrcnn_benchmark.utils.model_serialization:backbone.body.level2.tree2.conv1.weight              loaded from backbone.body.level2.tree2.conv1.weight              of shape (64, 64, 3, 3)\n",
            "INFO:maskrcnn_benchmark.utils.model_serialization:backbone.body.level2.tree2.conv2.weight              loaded from backbone.body.level2.tree2.conv2.weight              of shape (64, 64, 3, 3)\n",
            "INFO:maskrcnn_benchmark.utils.model_serialization:backbone.body.level3.project.0.weight                loaded from backbone.body.level3.project.0.weight                of shape (128, 64, 1, 1)\n",
            "INFO:maskrcnn_benchmark.utils.model_serialization:backbone.body.level3.project.1.bias                  loaded from backbone.body.level3.project.1.bias                  of shape (128,)\n",
            "INFO:maskrcnn_benchmark.utils.model_serialization:backbone.body.level3.project.1.running_mean          loaded from backbone.body.level3.project.1.running_mean          of shape (128,)\n",
            "INFO:maskrcnn_benchmark.utils.model_serialization:backbone.body.level3.project.1.running_var           loaded from backbone.body.level3.project.1.running_var           of shape (128,)\n",
            "INFO:maskrcnn_benchmark.utils.model_serialization:backbone.body.level3.project.1.weight                loaded from backbone.body.level3.project.1.weight                of shape (128,)\n",
            "INFO:maskrcnn_benchmark.utils.model_serialization:backbone.body.level3.tree1.project.0.weight          loaded from backbone.body.level3.tree1.project.0.weight          of shape (128, 64, 1, 1)\n",
            "INFO:maskrcnn_benchmark.utils.model_serialization:backbone.body.level3.tree1.project.1.bias            loaded from backbone.body.level3.tree1.project.1.bias            of shape (128,)\n",
            "INFO:maskrcnn_benchmark.utils.model_serialization:backbone.body.level3.tree1.project.1.running_mean    loaded from backbone.body.level3.tree1.project.1.running_mean    of shape (128,)\n",
            "INFO:maskrcnn_benchmark.utils.model_serialization:backbone.body.level3.tree1.project.1.running_var     loaded from backbone.body.level3.tree1.project.1.running_var     of shape (128,)\n",
            "INFO:maskrcnn_benchmark.utils.model_serialization:backbone.body.level3.tree1.project.1.weight          loaded from backbone.body.level3.tree1.project.1.weight          of shape (128,)\n",
            "INFO:maskrcnn_benchmark.utils.model_serialization:backbone.body.level3.tree1.root.bn.bias              loaded from backbone.body.level3.tree1.root.bn.bias              of shape (128,)\n",
            "INFO:maskrcnn_benchmark.utils.model_serialization:backbone.body.level3.tree1.root.bn.running_mean      loaded from backbone.body.level3.tree1.root.bn.running_mean      of shape (128,)\n",
            "INFO:maskrcnn_benchmark.utils.model_serialization:backbone.body.level3.tree1.root.bn.running_var       loaded from backbone.body.level3.tree1.root.bn.running_var       of shape (128,)\n",
            "INFO:maskrcnn_benchmark.utils.model_serialization:backbone.body.level3.tree1.root.bn.weight            loaded from backbone.body.level3.tree1.root.bn.weight            of shape (128,)\n",
            "INFO:maskrcnn_benchmark.utils.model_serialization:backbone.body.level3.tree1.root.conv.weight          loaded from backbone.body.level3.tree1.root.conv.weight          of shape (128, 256, 1, 1)\n",
            "INFO:maskrcnn_benchmark.utils.model_serialization:backbone.body.level3.tree1.tree1.bn1.bias            loaded from backbone.body.level3.tree1.tree1.bn1.bias            of shape (128,)\n",
            "INFO:maskrcnn_benchmark.utils.model_serialization:backbone.body.level3.tree1.tree1.bn1.running_mean    loaded from backbone.body.level3.tree1.tree1.bn1.running_mean    of shape (128,)\n",
            "INFO:maskrcnn_benchmark.utils.model_serialization:backbone.body.level3.tree1.tree1.bn1.running_var     loaded from backbone.body.level3.tree1.tree1.bn1.running_var     of shape (128,)\n",
            "INFO:maskrcnn_benchmark.utils.model_serialization:backbone.body.level3.tree1.tree1.bn1.weight          loaded from backbone.body.level3.tree1.tree1.bn1.weight          of shape (128,)\n",
            "INFO:maskrcnn_benchmark.utils.model_serialization:backbone.body.level3.tree1.tree1.bn2.bias            loaded from backbone.body.level3.tree1.tree1.bn2.bias            of shape (128,)\n",
            "INFO:maskrcnn_benchmark.utils.model_serialization:backbone.body.level3.tree1.tree1.bn2.running_mean    loaded from backbone.body.level3.tree1.tree1.bn2.running_mean    of shape (128,)\n",
            "INFO:maskrcnn_benchmark.utils.model_serialization:backbone.body.level3.tree1.tree1.bn2.running_var     loaded from backbone.body.level3.tree1.tree1.bn2.running_var     of shape (128,)\n",
            "INFO:maskrcnn_benchmark.utils.model_serialization:backbone.body.level3.tree1.tree1.bn2.weight          loaded from backbone.body.level3.tree1.tree1.bn2.weight          of shape (128,)\n",
            "INFO:maskrcnn_benchmark.utils.model_serialization:backbone.body.level3.tree1.tree1.conv1.weight        loaded from backbone.body.level3.tree1.tree1.conv1.weight        of shape (128, 64, 3, 3)\n",
            "INFO:maskrcnn_benchmark.utils.model_serialization:backbone.body.level3.tree1.tree1.conv2.weight        loaded from backbone.body.level3.tree1.tree1.conv2.weight        of shape (128, 128, 3, 3)\n",
            "INFO:maskrcnn_benchmark.utils.model_serialization:backbone.body.level3.tree1.tree2.bn1.bias            loaded from backbone.body.level3.tree1.tree2.bn1.bias            of shape (128,)\n",
            "INFO:maskrcnn_benchmark.utils.model_serialization:backbone.body.level3.tree1.tree2.bn1.running_mean    loaded from backbone.body.level3.tree1.tree2.bn1.running_mean    of shape (128,)\n",
            "INFO:maskrcnn_benchmark.utils.model_serialization:backbone.body.level3.tree1.tree2.bn1.running_var     loaded from backbone.body.level3.tree1.tree2.bn1.running_var     of shape (128,)\n",
            "INFO:maskrcnn_benchmark.utils.model_serialization:backbone.body.level3.tree1.tree2.bn1.weight          loaded from backbone.body.level3.tree1.tree2.bn1.weight          of shape (128,)\n",
            "INFO:maskrcnn_benchmark.utils.model_serialization:backbone.body.level3.tree1.tree2.bn2.bias            loaded from backbone.body.level3.tree1.tree2.bn2.bias            of shape (128,)\n",
            "INFO:maskrcnn_benchmark.utils.model_serialization:backbone.body.level3.tree1.tree2.bn2.running_mean    loaded from backbone.body.level3.tree1.tree2.bn2.running_mean    of shape (128,)\n",
            "INFO:maskrcnn_benchmark.utils.model_serialization:backbone.body.level3.tree1.tree2.bn2.running_var     loaded from backbone.body.level3.tree1.tree2.bn2.running_var     of shape (128,)\n",
            "INFO:maskrcnn_benchmark.utils.model_serialization:backbone.body.level3.tree1.tree2.bn2.weight          loaded from backbone.body.level3.tree1.tree2.bn2.weight          of shape (128,)\n",
            "INFO:maskrcnn_benchmark.utils.model_serialization:backbone.body.level3.tree1.tree2.conv1.weight        loaded from backbone.body.level3.tree1.tree2.conv1.weight        of shape (128, 128, 3, 3)\n",
            "INFO:maskrcnn_benchmark.utils.model_serialization:backbone.body.level3.tree1.tree2.conv2.weight        loaded from backbone.body.level3.tree1.tree2.conv2.weight        of shape (128, 128, 3, 3)\n",
            "INFO:maskrcnn_benchmark.utils.model_serialization:backbone.body.level3.tree2.root.bn.bias              loaded from backbone.body.level3.tree2.root.bn.bias              of shape (128,)\n",
            "INFO:maskrcnn_benchmark.utils.model_serialization:backbone.body.level3.tree2.root.bn.running_mean      loaded from backbone.body.level3.tree2.root.bn.running_mean      of shape (128,)\n",
            "INFO:maskrcnn_benchmark.utils.model_serialization:backbone.body.level3.tree2.root.bn.running_var       loaded from backbone.body.level3.tree2.root.bn.running_var       of shape (128,)\n",
            "INFO:maskrcnn_benchmark.utils.model_serialization:backbone.body.level3.tree2.root.bn.weight            loaded from backbone.body.level3.tree2.root.bn.weight            of shape (128,)\n",
            "INFO:maskrcnn_benchmark.utils.model_serialization:backbone.body.level3.tree2.root.conv.weight          loaded from backbone.body.level3.tree2.root.conv.weight          of shape (128, 448, 1, 1)\n",
            "INFO:maskrcnn_benchmark.utils.model_serialization:backbone.body.level3.tree2.tree1.bn1.bias            loaded from backbone.body.level3.tree2.tree1.bn1.bias            of shape (128,)\n",
            "INFO:maskrcnn_benchmark.utils.model_serialization:backbone.body.level3.tree2.tree1.bn1.running_mean    loaded from backbone.body.level3.tree2.tree1.bn1.running_mean    of shape (128,)\n",
            "INFO:maskrcnn_benchmark.utils.model_serialization:backbone.body.level3.tree2.tree1.bn1.running_var     loaded from backbone.body.level3.tree2.tree1.bn1.running_var     of shape (128,)\n",
            "INFO:maskrcnn_benchmark.utils.model_serialization:backbone.body.level3.tree2.tree1.bn1.weight          loaded from backbone.body.level3.tree2.tree1.bn1.weight          of shape (128,)\n",
            "INFO:maskrcnn_benchmark.utils.model_serialization:backbone.body.level3.tree2.tree1.bn2.bias            loaded from backbone.body.level3.tree2.tree1.bn2.bias            of shape (128,)\n",
            "INFO:maskrcnn_benchmark.utils.model_serialization:backbone.body.level3.tree2.tree1.bn2.running_mean    loaded from backbone.body.level3.tree2.tree1.bn2.running_mean    of shape (128,)\n",
            "INFO:maskrcnn_benchmark.utils.model_serialization:backbone.body.level3.tree2.tree1.bn2.running_var     loaded from backbone.body.level3.tree2.tree1.bn2.running_var     of shape (128,)\n",
            "INFO:maskrcnn_benchmark.utils.model_serialization:backbone.body.level3.tree2.tree1.bn2.weight          loaded from backbone.body.level3.tree2.tree1.bn2.weight          of shape (128,)\n",
            "INFO:maskrcnn_benchmark.utils.model_serialization:backbone.body.level3.tree2.tree1.conv1.weight        loaded from backbone.body.level3.tree2.tree1.conv1.weight        of shape (128, 128, 3, 3)\n",
            "INFO:maskrcnn_benchmark.utils.model_serialization:backbone.body.level3.tree2.tree1.conv2.weight        loaded from backbone.body.level3.tree2.tree1.conv2.weight        of shape (128, 128, 3, 3)\n",
            "INFO:maskrcnn_benchmark.utils.model_serialization:backbone.body.level3.tree2.tree2.bn1.bias            loaded from backbone.body.level3.tree2.tree2.bn1.bias            of shape (128,)\n",
            "INFO:maskrcnn_benchmark.utils.model_serialization:backbone.body.level3.tree2.tree2.bn1.running_mean    loaded from backbone.body.level3.tree2.tree2.bn1.running_mean    of shape (128,)\n",
            "INFO:maskrcnn_benchmark.utils.model_serialization:backbone.body.level3.tree2.tree2.bn1.running_var     loaded from backbone.body.level3.tree2.tree2.bn1.running_var     of shape (128,)\n",
            "INFO:maskrcnn_benchmark.utils.model_serialization:backbone.body.level3.tree2.tree2.bn1.weight          loaded from backbone.body.level3.tree2.tree2.bn1.weight          of shape (128,)\n",
            "INFO:maskrcnn_benchmark.utils.model_serialization:backbone.body.level3.tree2.tree2.bn2.bias            loaded from backbone.body.level3.tree2.tree2.bn2.bias            of shape (128,)\n",
            "INFO:maskrcnn_benchmark.utils.model_serialization:backbone.body.level3.tree2.tree2.bn2.running_mean    loaded from backbone.body.level3.tree2.tree2.bn2.running_mean    of shape (128,)\n",
            "INFO:maskrcnn_benchmark.utils.model_serialization:backbone.body.level3.tree2.tree2.bn2.running_var     loaded from backbone.body.level3.tree2.tree2.bn2.running_var     of shape (128,)\n",
            "INFO:maskrcnn_benchmark.utils.model_serialization:backbone.body.level3.tree2.tree2.bn2.weight          loaded from backbone.body.level3.tree2.tree2.bn2.weight          of shape (128,)\n",
            "INFO:maskrcnn_benchmark.utils.model_serialization:backbone.body.level3.tree2.tree2.conv1.weight        loaded from backbone.body.level3.tree2.tree2.conv1.weight        of shape (128, 128, 3, 3)\n",
            "INFO:maskrcnn_benchmark.utils.model_serialization:backbone.body.level3.tree2.tree2.conv2.weight        loaded from backbone.body.level3.tree2.tree2.conv2.weight        of shape (128, 128, 3, 3)\n",
            "INFO:maskrcnn_benchmark.utils.model_serialization:backbone.body.level4.project.0.weight                loaded from backbone.body.level4.project.0.weight                of shape (256, 128, 1, 1)\n",
            "INFO:maskrcnn_benchmark.utils.model_serialization:backbone.body.level4.project.1.bias                  loaded from backbone.body.level4.project.1.bias                  of shape (256,)\n",
            "INFO:maskrcnn_benchmark.utils.model_serialization:backbone.body.level4.project.1.running_mean          loaded from backbone.body.level4.project.1.running_mean          of shape (256,)\n",
            "INFO:maskrcnn_benchmark.utils.model_serialization:backbone.body.level4.project.1.running_var           loaded from backbone.body.level4.project.1.running_var           of shape (256,)\n",
            "INFO:maskrcnn_benchmark.utils.model_serialization:backbone.body.level4.project.1.weight                loaded from backbone.body.level4.project.1.weight                of shape (256,)\n",
            "INFO:maskrcnn_benchmark.utils.model_serialization:backbone.body.level4.tree1.project.0.weight          loaded from backbone.body.level4.tree1.project.0.weight          of shape (256, 128, 1, 1)\n",
            "INFO:maskrcnn_benchmark.utils.model_serialization:backbone.body.level4.tree1.project.1.bias            loaded from backbone.body.level4.tree1.project.1.bias            of shape (256,)\n",
            "INFO:maskrcnn_benchmark.utils.model_serialization:backbone.body.level4.tree1.project.1.running_mean    loaded from backbone.body.level4.tree1.project.1.running_mean    of shape (256,)\n",
            "INFO:maskrcnn_benchmark.utils.model_serialization:backbone.body.level4.tree1.project.1.running_var     loaded from backbone.body.level4.tree1.project.1.running_var     of shape (256,)\n",
            "INFO:maskrcnn_benchmark.utils.model_serialization:backbone.body.level4.tree1.project.1.weight          loaded from backbone.body.level4.tree1.project.1.weight          of shape (256,)\n",
            "INFO:maskrcnn_benchmark.utils.model_serialization:backbone.body.level4.tree1.root.bn.bias              loaded from backbone.body.level4.tree1.root.bn.bias              of shape (256,)\n",
            "INFO:maskrcnn_benchmark.utils.model_serialization:backbone.body.level4.tree1.root.bn.running_mean      loaded from backbone.body.level4.tree1.root.bn.running_mean      of shape (256,)\n",
            "INFO:maskrcnn_benchmark.utils.model_serialization:backbone.body.level4.tree1.root.bn.running_var       loaded from backbone.body.level4.tree1.root.bn.running_var       of shape (256,)\n",
            "INFO:maskrcnn_benchmark.utils.model_serialization:backbone.body.level4.tree1.root.bn.weight            loaded from backbone.body.level4.tree1.root.bn.weight            of shape (256,)\n",
            "INFO:maskrcnn_benchmark.utils.model_serialization:backbone.body.level4.tree1.root.conv.weight          loaded from backbone.body.level4.tree1.root.conv.weight          of shape (256, 512, 1, 1)\n",
            "INFO:maskrcnn_benchmark.utils.model_serialization:backbone.body.level4.tree1.tree1.bn1.bias            loaded from backbone.body.level4.tree1.tree1.bn1.bias            of shape (256,)\n",
            "INFO:maskrcnn_benchmark.utils.model_serialization:backbone.body.level4.tree1.tree1.bn1.running_mean    loaded from backbone.body.level4.tree1.tree1.bn1.running_mean    of shape (256,)\n",
            "INFO:maskrcnn_benchmark.utils.model_serialization:backbone.body.level4.tree1.tree1.bn1.running_var     loaded from backbone.body.level4.tree1.tree1.bn1.running_var     of shape (256,)\n",
            "INFO:maskrcnn_benchmark.utils.model_serialization:backbone.body.level4.tree1.tree1.bn1.weight          loaded from backbone.body.level4.tree1.tree1.bn1.weight          of shape (256,)\n",
            "INFO:maskrcnn_benchmark.utils.model_serialization:backbone.body.level4.tree1.tree1.bn2.bias            loaded from backbone.body.level4.tree1.tree1.bn2.bias            of shape (256,)\n",
            "INFO:maskrcnn_benchmark.utils.model_serialization:backbone.body.level4.tree1.tree1.bn2.running_mean    loaded from backbone.body.level4.tree1.tree1.bn2.running_mean    of shape (256,)\n",
            "INFO:maskrcnn_benchmark.utils.model_serialization:backbone.body.level4.tree1.tree1.bn2.running_var     loaded from backbone.body.level4.tree1.tree1.bn2.running_var     of shape (256,)\n",
            "INFO:maskrcnn_benchmark.utils.model_serialization:backbone.body.level4.tree1.tree1.bn2.weight          loaded from backbone.body.level4.tree1.tree1.bn2.weight          of shape (256,)\n",
            "INFO:maskrcnn_benchmark.utils.model_serialization:backbone.body.level4.tree1.tree1.conv1.weight        loaded from backbone.body.level4.tree1.tree1.conv1.weight        of shape (256, 128, 3, 3)\n",
            "INFO:maskrcnn_benchmark.utils.model_serialization:backbone.body.level4.tree1.tree1.conv2.weight        loaded from backbone.body.level4.tree1.tree1.conv2.weight        of shape (256, 256, 3, 3)\n",
            "INFO:maskrcnn_benchmark.utils.model_serialization:backbone.body.level4.tree1.tree2.bn1.bias            loaded from backbone.body.level4.tree1.tree2.bn1.bias            of shape (256,)\n",
            "INFO:maskrcnn_benchmark.utils.model_serialization:backbone.body.level4.tree1.tree2.bn1.running_mean    loaded from backbone.body.level4.tree1.tree2.bn1.running_mean    of shape (256,)\n",
            "INFO:maskrcnn_benchmark.utils.model_serialization:backbone.body.level4.tree1.tree2.bn1.running_var     loaded from backbone.body.level4.tree1.tree2.bn1.running_var     of shape (256,)\n",
            "INFO:maskrcnn_benchmark.utils.model_serialization:backbone.body.level4.tree1.tree2.bn1.weight          loaded from backbone.body.level4.tree1.tree2.bn1.weight          of shape (256,)\n",
            "INFO:maskrcnn_benchmark.utils.model_serialization:backbone.body.level4.tree1.tree2.bn2.bias            loaded from backbone.body.level4.tree1.tree2.bn2.bias            of shape (256,)\n",
            "INFO:maskrcnn_benchmark.utils.model_serialization:backbone.body.level4.tree1.tree2.bn2.running_mean    loaded from backbone.body.level4.tree1.tree2.bn2.running_mean    of shape (256,)\n",
            "INFO:maskrcnn_benchmark.utils.model_serialization:backbone.body.level4.tree1.tree2.bn2.running_var     loaded from backbone.body.level4.tree1.tree2.bn2.running_var     of shape (256,)\n",
            "INFO:maskrcnn_benchmark.utils.model_serialization:backbone.body.level4.tree1.tree2.bn2.weight          loaded from backbone.body.level4.tree1.tree2.bn2.weight          of shape (256,)\n",
            "INFO:maskrcnn_benchmark.utils.model_serialization:backbone.body.level4.tree1.tree2.conv1.weight        loaded from backbone.body.level4.tree1.tree2.conv1.weight        of shape (256, 256, 3, 3)\n",
            "INFO:maskrcnn_benchmark.utils.model_serialization:backbone.body.level4.tree1.tree2.conv2.weight        loaded from backbone.body.level4.tree1.tree2.conv2.weight        of shape (256, 256, 3, 3)\n",
            "INFO:maskrcnn_benchmark.utils.model_serialization:backbone.body.level4.tree2.root.bn.bias              loaded from backbone.body.level4.tree2.root.bn.bias              of shape (256,)\n",
            "INFO:maskrcnn_benchmark.utils.model_serialization:backbone.body.level4.tree2.root.bn.running_mean      loaded from backbone.body.level4.tree2.root.bn.running_mean      of shape (256,)\n",
            "INFO:maskrcnn_benchmark.utils.model_serialization:backbone.body.level4.tree2.root.bn.running_var       loaded from backbone.body.level4.tree2.root.bn.running_var       of shape (256,)\n",
            "INFO:maskrcnn_benchmark.utils.model_serialization:backbone.body.level4.tree2.root.bn.weight            loaded from backbone.body.level4.tree2.root.bn.weight            of shape (256,)\n",
            "INFO:maskrcnn_benchmark.utils.model_serialization:backbone.body.level4.tree2.root.conv.weight          loaded from backbone.body.level4.tree2.root.conv.weight          of shape (256, 896, 1, 1)\n",
            "INFO:maskrcnn_benchmark.utils.model_serialization:backbone.body.level4.tree2.tree1.bn1.bias            loaded from backbone.body.level4.tree2.tree1.bn1.bias            of shape (256,)\n",
            "INFO:maskrcnn_benchmark.utils.model_serialization:backbone.body.level4.tree2.tree1.bn1.running_mean    loaded from backbone.body.level4.tree2.tree1.bn1.running_mean    of shape (256,)\n",
            "INFO:maskrcnn_benchmark.utils.model_serialization:backbone.body.level4.tree2.tree1.bn1.running_var     loaded from backbone.body.level4.tree2.tree1.bn1.running_var     of shape (256,)\n",
            "INFO:maskrcnn_benchmark.utils.model_serialization:backbone.body.level4.tree2.tree1.bn1.weight          loaded from backbone.body.level4.tree2.tree1.bn1.weight          of shape (256,)\n",
            "INFO:maskrcnn_benchmark.utils.model_serialization:backbone.body.level4.tree2.tree1.bn2.bias            loaded from backbone.body.level4.tree2.tree1.bn2.bias            of shape (256,)\n",
            "INFO:maskrcnn_benchmark.utils.model_serialization:backbone.body.level4.tree2.tree1.bn2.running_mean    loaded from backbone.body.level4.tree2.tree1.bn2.running_mean    of shape (256,)\n",
            "INFO:maskrcnn_benchmark.utils.model_serialization:backbone.body.level4.tree2.tree1.bn2.running_var     loaded from backbone.body.level4.tree2.tree1.bn2.running_var     of shape (256,)\n",
            "INFO:maskrcnn_benchmark.utils.model_serialization:backbone.body.level4.tree2.tree1.bn2.weight          loaded from backbone.body.level4.tree2.tree1.bn2.weight          of shape (256,)\n",
            "INFO:maskrcnn_benchmark.utils.model_serialization:backbone.body.level4.tree2.tree1.conv1.weight        loaded from backbone.body.level4.tree2.tree1.conv1.weight        of shape (256, 256, 3, 3)\n",
            "INFO:maskrcnn_benchmark.utils.model_serialization:backbone.body.level4.tree2.tree1.conv2.weight        loaded from backbone.body.level4.tree2.tree1.conv2.weight        of shape (256, 256, 3, 3)\n",
            "INFO:maskrcnn_benchmark.utils.model_serialization:backbone.body.level4.tree2.tree2.bn1.bias            loaded from backbone.body.level4.tree2.tree2.bn1.bias            of shape (256,)\n",
            "INFO:maskrcnn_benchmark.utils.model_serialization:backbone.body.level4.tree2.tree2.bn1.running_mean    loaded from backbone.body.level4.tree2.tree2.bn1.running_mean    of shape (256,)\n",
            "INFO:maskrcnn_benchmark.utils.model_serialization:backbone.body.level4.tree2.tree2.bn1.running_var     loaded from backbone.body.level4.tree2.tree2.bn1.running_var     of shape (256,)\n",
            "INFO:maskrcnn_benchmark.utils.model_serialization:backbone.body.level4.tree2.tree2.bn1.weight          loaded from backbone.body.level4.tree2.tree2.bn1.weight          of shape (256,)\n",
            "INFO:maskrcnn_benchmark.utils.model_serialization:backbone.body.level4.tree2.tree2.bn2.bias            loaded from backbone.body.level4.tree2.tree2.bn2.bias            of shape (256,)\n",
            "INFO:maskrcnn_benchmark.utils.model_serialization:backbone.body.level4.tree2.tree2.bn2.running_mean    loaded from backbone.body.level4.tree2.tree2.bn2.running_mean    of shape (256,)\n",
            "INFO:maskrcnn_benchmark.utils.model_serialization:backbone.body.level4.tree2.tree2.bn2.running_var     loaded from backbone.body.level4.tree2.tree2.bn2.running_var     of shape (256,)\n",
            "INFO:maskrcnn_benchmark.utils.model_serialization:backbone.body.level4.tree2.tree2.bn2.weight          loaded from backbone.body.level4.tree2.tree2.bn2.weight          of shape (256,)\n",
            "INFO:maskrcnn_benchmark.utils.model_serialization:backbone.body.level4.tree2.tree2.conv1.weight        loaded from backbone.body.level4.tree2.tree2.conv1.weight        of shape (256, 256, 3, 3)\n",
            "INFO:maskrcnn_benchmark.utils.model_serialization:backbone.body.level4.tree2.tree2.conv2.weight        loaded from backbone.body.level4.tree2.tree2.conv2.weight        of shape (256, 256, 3, 3)\n",
            "INFO:maskrcnn_benchmark.utils.model_serialization:backbone.body.level5.project.0.weight                loaded from backbone.body.level5.project.0.weight                of shape (512, 256, 1, 1)\n",
            "INFO:maskrcnn_benchmark.utils.model_serialization:backbone.body.level5.project.1.bias                  loaded from backbone.body.level5.project.1.bias                  of shape (512,)\n",
            "INFO:maskrcnn_benchmark.utils.model_serialization:backbone.body.level5.project.1.running_mean          loaded from backbone.body.level5.project.1.running_mean          of shape (512,)\n",
            "INFO:maskrcnn_benchmark.utils.model_serialization:backbone.body.level5.project.1.running_var           loaded from backbone.body.level5.project.1.running_var           of shape (512,)\n",
            "INFO:maskrcnn_benchmark.utils.model_serialization:backbone.body.level5.project.1.weight                loaded from backbone.body.level5.project.1.weight                of shape (512,)\n",
            "INFO:maskrcnn_benchmark.utils.model_serialization:backbone.body.level5.root.bn.bias                    loaded from backbone.body.level5.root.bn.bias                    of shape (512,)\n",
            "INFO:maskrcnn_benchmark.utils.model_serialization:backbone.body.level5.root.bn.running_mean            loaded from backbone.body.level5.root.bn.running_mean            of shape (512,)\n",
            "INFO:maskrcnn_benchmark.utils.model_serialization:backbone.body.level5.root.bn.running_var             loaded from backbone.body.level5.root.bn.running_var             of shape (512,)\n",
            "INFO:maskrcnn_benchmark.utils.model_serialization:backbone.body.level5.root.bn.weight                  loaded from backbone.body.level5.root.bn.weight                  of shape (512,)\n",
            "INFO:maskrcnn_benchmark.utils.model_serialization:backbone.body.level5.root.conv.weight                loaded from backbone.body.level5.root.conv.weight                of shape (512, 1280, 1, 1)\n",
            "INFO:maskrcnn_benchmark.utils.model_serialization:backbone.body.level5.tree1.bn1.bias                  loaded from backbone.body.level5.tree1.bn1.bias                  of shape (512,)\n",
            "INFO:maskrcnn_benchmark.utils.model_serialization:backbone.body.level5.tree1.bn1.running_mean          loaded from backbone.body.level5.tree1.bn1.running_mean          of shape (512,)\n",
            "INFO:maskrcnn_benchmark.utils.model_serialization:backbone.body.level5.tree1.bn1.running_var           loaded from backbone.body.level5.tree1.bn1.running_var           of shape (512,)\n",
            "INFO:maskrcnn_benchmark.utils.model_serialization:backbone.body.level5.tree1.bn1.weight                loaded from backbone.body.level5.tree1.bn1.weight                of shape (512,)\n",
            "INFO:maskrcnn_benchmark.utils.model_serialization:backbone.body.level5.tree1.bn2.bias                  loaded from backbone.body.level5.tree1.bn2.bias                  of shape (512,)\n",
            "INFO:maskrcnn_benchmark.utils.model_serialization:backbone.body.level5.tree1.bn2.running_mean          loaded from backbone.body.level5.tree1.bn2.running_mean          of shape (512,)\n",
            "INFO:maskrcnn_benchmark.utils.model_serialization:backbone.body.level5.tree1.bn2.running_var           loaded from backbone.body.level5.tree1.bn2.running_var           of shape (512,)\n",
            "INFO:maskrcnn_benchmark.utils.model_serialization:backbone.body.level5.tree1.bn2.weight                loaded from backbone.body.level5.tree1.bn2.weight                of shape (512,)\n",
            "INFO:maskrcnn_benchmark.utils.model_serialization:backbone.body.level5.tree1.conv1.weight              loaded from backbone.body.level5.tree1.conv1.weight              of shape (512, 256, 3, 3)\n",
            "INFO:maskrcnn_benchmark.utils.model_serialization:backbone.body.level5.tree1.conv2.weight              loaded from backbone.body.level5.tree1.conv2.weight              of shape (512, 512, 3, 3)\n",
            "INFO:maskrcnn_benchmark.utils.model_serialization:backbone.body.level5.tree2.bn1.bias                  loaded from backbone.body.level5.tree2.bn1.bias                  of shape (512,)\n",
            "INFO:maskrcnn_benchmark.utils.model_serialization:backbone.body.level5.tree2.bn1.running_mean          loaded from backbone.body.level5.tree2.bn1.running_mean          of shape (512,)\n",
            "INFO:maskrcnn_benchmark.utils.model_serialization:backbone.body.level5.tree2.bn1.running_var           loaded from backbone.body.level5.tree2.bn1.running_var           of shape (512,)\n",
            "INFO:maskrcnn_benchmark.utils.model_serialization:backbone.body.level5.tree2.bn1.weight                loaded from backbone.body.level5.tree2.bn1.weight                of shape (512,)\n",
            "INFO:maskrcnn_benchmark.utils.model_serialization:backbone.body.level5.tree2.bn2.bias                  loaded from backbone.body.level5.tree2.bn2.bias                  of shape (512,)\n",
            "INFO:maskrcnn_benchmark.utils.model_serialization:backbone.body.level5.tree2.bn2.running_mean          loaded from backbone.body.level5.tree2.bn2.running_mean          of shape (512,)\n",
            "INFO:maskrcnn_benchmark.utils.model_serialization:backbone.body.level5.tree2.bn2.running_var           loaded from backbone.body.level5.tree2.bn2.running_var           of shape (512,)\n",
            "INFO:maskrcnn_benchmark.utils.model_serialization:backbone.body.level5.tree2.bn2.weight                loaded from backbone.body.level5.tree2.bn2.weight                of shape (512,)\n",
            "INFO:maskrcnn_benchmark.utils.model_serialization:backbone.body.level5.tree2.conv1.weight              loaded from backbone.body.level5.tree2.conv1.weight              of shape (512, 512, 3, 3)\n",
            "INFO:maskrcnn_benchmark.utils.model_serialization:backbone.body.level5.tree2.conv2.weight              loaded from backbone.body.level5.tree2.conv2.weight              of shape (512, 512, 3, 3)\n",
            "INFO:maskrcnn_benchmark.utils.model_serialization:backbone.fpn.fpn_inner1.bias                         loaded from backbone.fpn.fpn_inner1.bias                         of shape (128,)\n",
            "INFO:maskrcnn_benchmark.utils.model_serialization:backbone.fpn.fpn_inner1.weight                       loaded from backbone.fpn.fpn_inner1.weight                       of shape (128, 64, 1, 1)\n",
            "INFO:maskrcnn_benchmark.utils.model_serialization:backbone.fpn.fpn_inner2.bias                         loaded from backbone.fpn.fpn_inner2.bias                         of shape (128,)\n",
            "INFO:maskrcnn_benchmark.utils.model_serialization:backbone.fpn.fpn_inner2.weight                       loaded from backbone.fpn.fpn_inner2.weight                       of shape (128, 128, 1, 1)\n",
            "INFO:maskrcnn_benchmark.utils.model_serialization:backbone.fpn.fpn_inner3.bias                         loaded from backbone.fpn.fpn_inner3.bias                         of shape (128,)\n",
            "INFO:maskrcnn_benchmark.utils.model_serialization:backbone.fpn.fpn_inner3.weight                       loaded from backbone.fpn.fpn_inner3.weight                       of shape (128, 256, 1, 1)\n",
            "INFO:maskrcnn_benchmark.utils.model_serialization:backbone.fpn.fpn_inner4.bias                         loaded from backbone.fpn.fpn_inner4.bias                         of shape (128,)\n",
            "INFO:maskrcnn_benchmark.utils.model_serialization:backbone.fpn.fpn_inner4.weight                       loaded from backbone.fpn.fpn_inner4.weight                       of shape (128, 512, 1, 1)\n",
            "INFO:maskrcnn_benchmark.utils.model_serialization:backbone.fpn.fpn_layer1.bias                         loaded from backbone.fpn.fpn_layer1.bias                         of shape (128,)\n",
            "INFO:maskrcnn_benchmark.utils.model_serialization:backbone.fpn.fpn_layer1.weight                       loaded from backbone.fpn.fpn_layer1.weight                       of shape (128, 128, 3, 3)\n",
            "INFO:maskrcnn_benchmark.utils.model_serialization:backbone.fpn.fpn_layer2.bias                         loaded from backbone.fpn.fpn_layer2.bias                         of shape (128,)\n",
            "INFO:maskrcnn_benchmark.utils.model_serialization:backbone.fpn.fpn_layer2.weight                       loaded from backbone.fpn.fpn_layer2.weight                       of shape (128, 128, 3, 3)\n",
            "INFO:maskrcnn_benchmark.utils.model_serialization:backbone.fpn.fpn_layer3.bias                         loaded from backbone.fpn.fpn_layer3.bias                         of shape (128,)\n",
            "INFO:maskrcnn_benchmark.utils.model_serialization:backbone.fpn.fpn_layer3.weight                       loaded from backbone.fpn.fpn_layer3.weight                       of shape (128, 128, 3, 3)\n",
            "INFO:maskrcnn_benchmark.utils.model_serialization:backbone.fpn.fpn_layer4.bias                         loaded from backbone.fpn.fpn_layer4.bias                         of shape (128,)\n",
            "INFO:maskrcnn_benchmark.utils.model_serialization:backbone.fpn.fpn_layer4.weight                       loaded from backbone.fpn.fpn_layer4.weight                       of shape (128, 128, 3, 3)\n",
            "INFO:maskrcnn_benchmark.utils.model_serialization:roi_heads.box.feature_extractor.fc6.bias             loaded from roi_heads.box.feature_extractor.fc6.bias             of shape (1024,)\n",
            "INFO:maskrcnn_benchmark.utils.model_serialization:roi_heads.box.feature_extractor.fc6.weight           loaded from roi_heads.box.feature_extractor.fc6.weight           of shape (1024, 6272)\n",
            "INFO:maskrcnn_benchmark.utils.model_serialization:roi_heads.box.feature_extractor.fc7.bias             loaded from roi_heads.box.feature_extractor.fc7.bias             of shape (1024,)\n",
            "INFO:maskrcnn_benchmark.utils.model_serialization:roi_heads.box.feature_extractor.fc7.weight           loaded from roi_heads.box.feature_extractor.fc7.weight           of shape (1024, 1024)\n",
            "INFO:maskrcnn_benchmark.utils.model_serialization:roi_heads.box.predictor.bbox_pred.bias               loaded from roi_heads.box.predictor.bbox_pred.bias               of shape (8,)\n",
            "INFO:maskrcnn_benchmark.utils.model_serialization:roi_heads.box.predictor.bbox_pred.weight             loaded from roi_heads.box.predictor.bbox_pred.weight             of shape (8, 1024)\n",
            "INFO:maskrcnn_benchmark.utils.model_serialization:roi_heads.box.predictor.cls_score.bias               loaded from roi_heads.box.predictor.cls_score.bias               of shape (2,)\n",
            "INFO:maskrcnn_benchmark.utils.model_serialization:roi_heads.box.predictor.cls_score.weight             loaded from roi_heads.box.predictor.cls_score.weight             of shape (2, 1024)\n",
            "INFO:maskrcnn_benchmark.utils.model_serialization:roi_heads.track.tracker.predictor.center.bias        loaded from roi_heads.track.tracker.predictor.center.bias        of shape (1,)\n",
            "INFO:maskrcnn_benchmark.utils.model_serialization:roi_heads.track.tracker.predictor.center.weight      loaded from roi_heads.track.tracker.predictor.center.weight      of shape (1, 128, 3, 3)\n",
            "INFO:maskrcnn_benchmark.utils.model_serialization:roi_heads.track.tracker.predictor.cls.bias           loaded from roi_heads.track.tracker.predictor.cls.bias           of shape (2,)\n",
            "INFO:maskrcnn_benchmark.utils.model_serialization:roi_heads.track.tracker.predictor.cls.weight         loaded from roi_heads.track.tracker.predictor.cls.weight         of shape (2, 128, 3, 3)\n",
            "INFO:maskrcnn_benchmark.utils.model_serialization:roi_heads.track.tracker.predictor.cls_tower.0.weight loaded from roi_heads.track.tracker.predictor.cls_tower.0.weight of shape (128, 128, 3, 3)\n",
            "INFO:maskrcnn_benchmark.utils.model_serialization:roi_heads.track.tracker.predictor.cls_tower.1.bias   loaded from roi_heads.track.tracker.predictor.cls_tower.1.bias   of shape (128,)\n",
            "INFO:maskrcnn_benchmark.utils.model_serialization:roi_heads.track.tracker.predictor.cls_tower.1.weight loaded from roi_heads.track.tracker.predictor.cls_tower.1.weight of shape (128,)\n",
            "INFO:maskrcnn_benchmark.utils.model_serialization:roi_heads.track.tracker.predictor.reg.bias           loaded from roi_heads.track.tracker.predictor.reg.bias           of shape (4,)\n",
            "INFO:maskrcnn_benchmark.utils.model_serialization:roi_heads.track.tracker.predictor.reg.weight         loaded from roi_heads.track.tracker.predictor.reg.weight         of shape (4, 128, 3, 3)\n",
            "INFO:maskrcnn_benchmark.utils.model_serialization:roi_heads.track.tracker.predictor.reg_tower.0.weight loaded from roi_heads.track.tracker.predictor.reg_tower.0.weight of shape (128, 128, 3, 3)\n",
            "INFO:maskrcnn_benchmark.utils.model_serialization:roi_heads.track.tracker.predictor.reg_tower.1.bias   loaded from roi_heads.track.tracker.predictor.reg_tower.1.bias   of shape (128,)\n",
            "INFO:maskrcnn_benchmark.utils.model_serialization:roi_heads.track.tracker.predictor.reg_tower.1.weight loaded from roi_heads.track.tracker.predictor.reg_tower.1.weight of shape (128,)\n",
            "INFO:maskrcnn_benchmark.utils.model_serialization:rpn.anchor_generator.cell_anchors.0                  loaded from rpn.anchor_generator.cell_anchors.0                  of shape (3, 4)\n",
            "INFO:maskrcnn_benchmark.utils.model_serialization:rpn.anchor_generator.cell_anchors.1                  loaded from rpn.anchor_generator.cell_anchors.1                  of shape (3, 4)\n",
            "INFO:maskrcnn_benchmark.utils.model_serialization:rpn.anchor_generator.cell_anchors.2                  loaded from rpn.anchor_generator.cell_anchors.2                  of shape (3, 4)\n",
            "INFO:maskrcnn_benchmark.utils.model_serialization:rpn.anchor_generator.cell_anchors.3                  loaded from rpn.anchor_generator.cell_anchors.3                  of shape (3, 4)\n",
            "INFO:maskrcnn_benchmark.utils.model_serialization:rpn.anchor_generator.cell_anchors.4                  loaded from rpn.anchor_generator.cell_anchors.4                  of shape (3, 4)\n",
            "INFO:maskrcnn_benchmark.utils.model_serialization:rpn.head.bbox_pred.bias                              loaded from rpn.head.bbox_pred.bias                              of shape (12,)\n",
            "INFO:maskrcnn_benchmark.utils.model_serialization:rpn.head.bbox_pred.weight                            loaded from rpn.head.bbox_pred.weight                            of shape (12, 128, 1, 1)\n",
            "INFO:maskrcnn_benchmark.utils.model_serialization:rpn.head.cls_logits.bias                             loaded from rpn.head.cls_logits.bias                             of shape (3,)\n",
            "INFO:maskrcnn_benchmark.utils.model_serialization:rpn.head.cls_logits.weight                           loaded from rpn.head.cls_logits.weight                           of shape (3, 128, 1, 1)\n",
            "INFO:maskrcnn_benchmark.utils.model_serialization:rpn.head.conv.bias                                   loaded from rpn.head.conv.bias                                   of shape (128,)\n",
            "INFO:maskrcnn_benchmark.utils.model_serialization:rpn.head.conv.weight                                 loaded from rpn.head.conv.weight                                 of shape (128, 128, 3, 3)\n",
            "  0% 0/1200 [00:00<?, ?it/s]/usr/local/lib/python3.7/dist-packages/torch/nn/functional.py:718: UserWarning: Named tensors and all their associated APIs are an experimental feature and subject to change. Please do not use them for anything important until they are released as stable. (Triggered internally at  /pytorch/c10/core/TensorImpl.h:1156.)\n",
            "  return torch.max_pool2d(input, kernel_size, stride, padding, dilation, ceil_mode)\n",
            " 39% 471/1200 [02:39<04:07,  2.95it/s]/usr/local/lib/python3.7/dist-packages/torch/nn/functional.py:3613: UserWarning: Default upsampling behavior when mode=bicubic is changed to align_corners=False since 0.4.0. Please specify align_corners=True if the old behavior is desired. See the documentation of nn.Upsample for details.\n",
            "  \"See the documentation of nn.Upsample for details.\".format(mode)\n",
            "100% 1200/1200 [06:48<00:00,  2.94it/s]\n",
            " 18% 216/1199 [01:15<05:30,  2.98it/s]"
          ],
          "name": "stdout"
        }
      ]
    },
    {
      "cell_type": "code",
      "metadata": {
        "colab": {
          "base_uri": "https://localhost:8080/"
        },
        "id": "tObR4QXKDG2K",
        "outputId": "b0232951-0299-4af4-d3f8-6690a0530fdd"
      },
      "source": [
        "# 1.60it/s is quite useful, or 12.28 to run 1200 steps, \n",
        "# looks like your model almost fits the time budget\n",
        "# 800s per flight\n",
        "# Siam-mot-baseline took around 400s per flight => 0.8 it/s (in colab pro: 3 it / s)\n",
        "# Can only run 1.8 times x siam-mot-tracker\n",
        "!ls -alh /content/airborne-detection-starter-kit/data/results/run0"
      ],
      "execution_count": null,
      "outputs": [
        {
          "output_type": "stream",
          "text": [
            "total 100K\n",
            "drwxr-xr-x 4 root root 4.0K Aug 18 07:09 .\n",
            "drwxr-xr-x 3 root root 4.0K Aug 18 06:29 ..\n",
            "drwxr-xr-x 2 root root 4.0K Aug 18 07:03 ac23cb93c5c242d2b1bf0633fae9b1e6\n",
            "drwxr-xr-x 2 root root 4.0K Aug 18 07:09 e0d815053c1c46cfbd0b586b72718feb\n",
            "-rw-r--r-- 1 root root  83K Aug 18 07:09 result.json\n"
          ],
          "name": "stdout"
        }
      ]
    },
    {
      "cell_type": "code",
      "metadata": {
        "colab": {
          "base_uri": "https://localhost:8080/"
        },
        "id": "zLqJ8chkHbEi",
        "outputId": "bbb487d3-f7c1-4be8-912f-b3836b778d02"
      },
      "source": [
        "# Generate groundtruth.json for relevant flights\n",
        "def generate_partial_gt():\n",
        "    flights = ['e0d815053c1c46cfbd0b586b72718feb', 'ac23cb93c5c242d2b1bf0633fae9b1e6']\n",
        "    gt = json.loads(open(\"data/part2/ImageSets/groundtruth.json\").read())\n",
        "    for sample in list(gt['samples'].keys()):\n",
        "        if sample not in flights:\n",
        "            del gt['samples'][sample]\n",
        "\n",
        "    with open((\"data/evaluation/gt/groundtruth.json\"), 'w') as fp:\n",
        "        json.dump(gt, fp)\n",
        "\n",
        "# Transfer generated results to metrics codebase bbox format\n",
        "def convert_and_copy_generated_results_to_metrics_folder():\n",
        "    flight_results = json.loads(open(\"data/results/run0/result.json\").read())\n",
        "    for i in range(len(flight_results)):\n",
        "        for j in range(len(flight_results[i]['detections'])):\n",
        "            x = flight_results[i]['detections'][j]['x']\n",
        "            y = flight_results[i]['detections'][j]['y']\n",
        "            w = flight_results[i]['detections'][j]['w'] - x\n",
        "            h = flight_results[i]['detections'][j]['h'] - y\n",
        "\n",
        "\n",
        "            flight_results[i]['detections'][j]['x'] = x + w/2\n",
        "            flight_results[i]['detections'][j]['y'] = y + h/2\n",
        "            flight_results[i]['detections'][j]['w'] = w\n",
        "            flight_results[i]['detections'][j]['h'] = h\n",
        "\n",
        "    with open(\"data/evaluation/result/result.json\", 'w') as fp:\n",
        "        json.dump(flight_results, fp)\n",
        "\n",
        "!pwd\n",
        "!rm -rf data/evaluation/\n",
        "!mkdir -p data/evaluation/gt\n",
        "!mkdir -p data/evaluation/result\n",
        "\n",
        "generate_partial_gt()\n",
        "convert_and_copy_generated_results_to_metrics_folder()\n",
        "!python core/metrics/run_airborne_metrics.py --dataset-folder data/evaluation/gt --results-folder data/evaluation/result --summaries-folder data/evaluation/summaries\n"
      ],
      "execution_count": null,
      "outputs": [
        {
          "output_type": "stream",
          "text": [
            "/content/airborne-detection-starter-kit\n",
            "2021-08-18 07:17:13,410:INFO:run_airborne_metrics.py:160 Encounter ground truth: data/evaluation/gt/groundtruth_with_encounters_maxRange700_maxGap3_minEncLen30.csv\n",
            "2021-08-18 07:17:13,411:INFO:calculate_encounters.py:83 Asserting data/evaluation/gt/groundtruth.json format\n",
            "2021-08-18 07:17:13,411:INFO:pandas_utils.py:87 Reading ground truth\n",
            "2021-08-18 07:17:13,411:INFO:pandas_utils.py:61 Reading provided data/evaluation/gt/groundtruth.json\n",
            "2021-08-18 07:17:13,411:INFO:pandas_utils.py:68 Loading .json\n",
            "2021-08-18 07:17:13,420:INFO:pandas_utils.py:75 Normalizing json. This operation is time consuming. The result .csv will be saved Please consider providing .csv file next time\n",
            "2021-08-18 07:17:13,514:INFO:calculate_encounters.py:268 Saving groundtruth in .csv format, please use .csv in the future\n",
            "2021-08-18 07:17:13,542:INFO:calculate_encounters.py:273 Filtering ground truth to get intruders in the specified range <= 700m.\n",
            "2021-08-18 07:17:13,571:INFO:utils.py:157 NumExpr defaulting to 2 threads.\n",
            "2021-08-18 07:17:13,578:INFO:calculate_encounters.py:277 Finding encounters and adding their information to the ground truth\n",
            "2021-08-18 07:17:13,631:INFO:calculate_encounters.py:290 Saving ground truth + encounters dataframe to data/evaluation/gt/groundtruth_with_encounters_maxRange700_maxGap3_minEncLen30.csv\n",
            "2021-08-18 07:17:13,675:INFO:calculate_encounters.py:302 Saving only valid encounters info dataframe to data/evaluation/gt/valid_encounters_maxRange700_maxGap3_minEncLen30.csv\n",
            "2021-08-18 07:17:13,677:INFO:calculate_encounters.py:307 Saving only valid encounters info in json format to data/evaluation/gt/valid_encounters_maxRange700_maxGap3_minEncLen30.json\n",
            "2021-08-18 07:17:13,681:INFO:match_groundtruth_results.py:516 Reading input ground truth and results\n",
            "2021-08-18 07:17:13,682:INFO:pandas_utils.py:87 Reading ground truth\n",
            "2021-08-18 07:17:13,682:INFO:pandas_utils.py:61 Reading provided data/evaluation/gt/groundtruth.csv\n",
            "2021-08-18 07:17:13,695:INFO:match_groundtruth_results.py:522 Number of evaluated images is 2399\n",
            "2021-08-18 07:17:13,695:INFO:pandas_utils.py:96 Reading detection results\n",
            "2021-08-18 07:17:13,695:INFO:pandas_utils.py:61 Reading provided data/evaluation/result/result.json\n",
            "2021-08-18 07:17:13,695:INFO:pandas_utils.py:68 Loading .json\n",
            "2021-08-18 07:17:13,696:INFO:pandas_utils.py:75 Normalizing json. This operation is time consuming. The result .csv will be saved Please consider providing .csv file next time\n",
            "2021-08-18 07:17:13,704:INFO:match_groundtruth_results.py:527 Saving airborne classifier results in .csv format, please use .csv in the future\n",
            "2021-08-18 07:17:13,708:INFO:match_groundtruth_results.py:529 Number of evaluated unique detections is 348\n",
            "2021-08-18 07:17:13,708:INFO:match_groundtruth_results.py:530 Filtering results based on results score 0.00\n",
            "2021-08-18 07:17:13,712:INFO:match_groundtruth_results.py:536 Enumerating detections with detection_id\n",
            "2021-08-18 07:17:13,712:INFO:match_groundtruth_results.py:547 Using track_id as track_id\n",
            "2021-08-18 07:17:13,720:INFO:match_groundtruth_results.py:552 Augmenting with track length\n",
            "2021-08-18 07:17:13,733:INFO:match_groundtruth_results.py:554 Filtering results with track length below 0\n",
            "2021-08-18 07:17:13,733:INFO:match_groundtruth_results.py:557 Computing ground truth and detection match based on extended_iou_minObjArea_100\n",
            "2021-08-18 07:17:13,741:INFO:match_groundtruth_results.py:464 Pairing each ground truth intruder with each detection in the respective frame\n",
            "2021-08-18 07:17:13,757:INFO:match_groundtruth_results.py:471 Augmenting with original iou for comparison\n",
            "2021-08-18 07:17:13,767:INFO:match_groundtruth_results.py:477 Extending bounding boxes based on groundtruth area\n",
            "2021-08-18 07:17:13,767:INFO:match_groundtruth_results.py:296 Extending bounding boxes based on ground truth area\n",
            "2021-08-18 07:17:13,769:INFO:match_groundtruth_results.py:307 Number of objects with ground truth area less than 100 is 91\n",
            "2021-08-18 07:17:13,777:INFO:match_groundtruth_results.py:322 There are no detections with area below 100 that are being matched to extended ground truth\n",
            "2021-08-18 07:17:13,777:INFO:match_groundtruth_results.py:480 Augmenting with extended iou with minimum object area of 100\n",
            "2021-08-18 07:17:13,786:INFO:match_groundtruth_results.py:200 IoU matching: match minimum iou = 0.20, and no match maximum iou = 0.02 \n",
            "2021-08-18 07:17:13,797:INFO:match_groundtruth_results.py:487 Matching done\n",
            "2021-08-18 07:17:13,798:INFO:match_groundtruth_results.py:563 Saving ground truth and detection match results to data/evaluation/result/result_metrics_min_track_len_0/gt_det_matches_extended_iou_minObjArea_100_matchThresh_0_2_noMatchThresh_0_02.csv\n",
            "2021-08-18 07:17:13,876:INFO:calculate_airborne_metrics.py:715 Reading ground truth detection matches from data/evaluation/result/result_metrics_min_track_len_0/gt_det_matches_extended_iou_minObjArea_100_matchThresh_0_2_noMatchThresh_0_02.csv\n",
            "2021-08-18 07:17:13,890:WARNING:calculate_airborne_metrics.py:722 Reading ground truth with encounters from data/evaluation/gt/groundtruth_with_encounters_maxRange700_maxGap3_minEncLen30.csv\n",
            "2021-08-18 07:17:13,899:INFO:calculate_airborne_metrics.py:727 Maximum range of encounter is 699.85\n",
            "2021-08-18 07:17:13,899:INFO:calculate_airborne_metrics.py:742 The provided minimum detection score 0.00000 will be used\n",
            "2021-08-18 07:17:13,899:INFO:calculate_airborne_metrics.py:745 Frame level metrics calculation for score threshold = 0.9851007461547852\n",
            "2021-08-18 07:17:13,919:INFO:calculate_airborne_metrics.py:254 FAR calculation: Using unique flight ids in the provided data frame to calculate total number of processed flights\n",
            "2021-08-18 07:17:13,919:INFO:calculate_airborne_metrics.py:260 FAR calculation: Total number of processed flights is 2\n",
            "2021-08-18 07:17:13,919:INFO:calculate_airborne_metrics.py:261 FAR calculation: Total number of processed hours is 0.067\n",
            "2021-08-18 07:17:13,919:INFO:calculate_airborne_metrics.py:206 Filtering score threshold = 0.985\n",
            "2021-08-18 07:17:13,922:INFO:calculate_airborne_metrics.py:176 Calculating the number of unique tracks ids that that correspond to at least one not matched detection\n",
            "2021-08-18 07:17:13,938:INFO:calculate_airborne_metrics.py:197 Number of unique track_ids that correspond to at least one false detection 0\n",
            "2021-08-18 07:17:13,938:INFO:calculate_airborne_metrics.py:267 FAR = 0.00000\n",
            "2021-08-18 07:17:13,938:INFO:calculate_airborne_metrics.py:227 FPPI calculation: Using unique image names in the provided data frame to calculate total number of processed frames\n",
            "2021-08-18 07:17:13,939:INFO:calculate_airborne_metrics.py:231 FPPI calculation: Total number of processed frames is 2399\n",
            "2021-08-18 07:17:13,939:INFO:calculate_airborne_metrics.py:206 Filtering score threshold = 0.985\n",
            "2021-08-18 07:17:13,943:INFO:calculate_airborne_metrics.py:151 Calculating the number of detections that did not match ground truth\n",
            "2021-08-18 07:17:13,950:INFO:calculate_airborne_metrics.py:171 No match calculation: Number of detections without a match = 0 out of 348 unique detections\n",
            "2021-08-18 07:17:13,950:INFO:calculate_airborne_metrics.py:234 FPPI = 0.00000\n",
            "2021-08-18 07:17:13,950:INFO:calculate_airborne_metrics.py:343 PD calculation: Intruders Range =  [0.0, 699.8]\n",
            "2021-08-18 07:17:13,955:INFO:calculate_airborne_metrics.py:303 PD calculation: Number of intruders to detect = 272\n",
            "2021-08-18 07:17:13,955:INFO:calculate_airborne_metrics.py:206 Filtering score threshold = 0.985\n",
            "2021-08-18 07:17:13,959:INFO:calculate_airborne_metrics.py:272 Calculating the number of intruders that were matched by detections\n",
            "2021-08-18 07:17:13,964:INFO:calculate_airborne_metrics.py:287 Detected intruders calculation: Number of detected intruders = 268 \n",
            "2021-08-18 07:17:13,964:INFO:calculate_airborne_metrics.py:314 PD = 0.985 = 268 / 272\n",
            "2021-08-18 07:17:13,964:INFO:calculate_airborne_metrics.py:360 PD calculation: gt_area > 200 and id.str.contains(\"Flock\") == False and id.str.contains(\"Bird\") == False\n",
            "2021-08-18 07:17:13,974:INFO:calculate_airborne_metrics.py:303 PD calculation: Number of intruders to detect = 1325\n",
            "2021-08-18 07:17:13,974:INFO:calculate_airborne_metrics.py:206 Filtering score threshold = 0.985\n",
            "2021-08-18 07:17:13,978:INFO:calculate_airborne_metrics.py:272 Calculating the number of intruders that were matched by detections\n",
            "2021-08-18 07:17:13,983:INFO:calculate_airborne_metrics.py:287 Detected intruders calculation: Number of detected intruders = 344 \n",
            "2021-08-18 07:17:13,983:INFO:calculate_airborne_metrics.py:314 PD = 0.260 = 344 / 1325\n",
            "2021-08-18 07:17:13,983:INFO:calculate_airborne_metrics.py:360 PD calculation: gt_area <= 200 and id.str.contains(\"Flock\") == False and id.str.contains(\"Bird\") == False\n",
            "2021-08-18 07:17:13,992:INFO:calculate_airborne_metrics.py:303 PD calculation: Number of intruders to detect = 99\n",
            "2021-08-18 07:17:13,992:INFO:calculate_airborne_metrics.py:206 Filtering score threshold = 0.985\n",
            "2021-08-18 07:17:13,995:INFO:calculate_airborne_metrics.py:272 Calculating the number of intruders that were matched by detections\n",
            "2021-08-18 07:17:13,999:INFO:calculate_airborne_metrics.py:287 Detected intruders calculation: Number of detected intruders = 4 \n",
            "2021-08-18 07:17:13,999:INFO:calculate_airborne_metrics.py:314 PD = 0.040 = 4 / 99\n",
            "2021-08-18 07:17:14,002:INFO:calculate_airborne_metrics.py:500 Thresholding score\n",
            "2021-08-18 07:17:14,009:INFO:calculate_airborne_metrics.py:507 Number of encounters to detect 2\n",
            "2021-08-18 07:17:14,010:INFO:calculate_airborne_metrics.py:509 Combining encounters with results\n",
            "2021-08-18 07:17:14,017:INFO:calculate_airborne_metrics.py:513 Grouping data frame with matches to getdetection matches per encounter\n",
            "2021-08-18 07:17:14,020:INFO:calculate_airborne_metrics.py:516 Augmenting with moving frame level detection rate, this might take some time\n",
            "2021-08-18 07:17:14,038:INFO:calculate_airborne_metrics.py:520 Merge frame_level detection rate \n",
            "2021-08-18 07:17:14,045:INFO:calculate_airborne_metrics.py:526 Grouping data frame with matches to get matched track_ids per frame and object\n",
            "2021-08-18 07:17:14,097:INFO:calculate_airborne_metrics.py:531 Grouping data frame with matches to get matched track_ids per encounter and frame\n",
            "2021-08-18 07:17:14,134:INFO:calculate_airborne_metrics.py:599 Checking if encounters were detected\n",
            "2021-08-18 07:17:14,156:INFO:calculate_airborne_metrics.py:599 Checking if encounters were detected\n",
            "2021-08-18 07:17:14,174:INFO:calculate_airborne_metrics.py:771 Saving results\n",
            "2021-08-18 07:17:14,176:INFO:calculate_airborne_metrics.py:794 Data frame with information on encounter detection is saved to data/evaluation/result/result_metrics_min_track_len_0/airborne_metrics_moving_30_fl_dr_0p5_encounter_detections_far_0_0.csv and data/evaluation/result/result_metrics_min_track_len_0/airborne_metrics_moving_30_fl_dr_0p5_encounter_detections_far_0_0_tracking.csv\n",
            "2021-08-18 07:17:14,178:INFO:calculate_airborne_metrics.py:798 Data frame with information on encounter detection is saved to data/evaluation/result/result_metrics_min_track_len_0/airborne_metrics_moving_30_fl_dr_0p5_encounter_detections_far_0_0.json\n",
            "2021-08-18 07:17:14,178:INFO:calculate_airborne_metrics.py:801 Calculating final summary\n",
            "2021-08-18 07:17:14,206:INFO:calculate_airborne_metrics.py:819 Summary\n",
            "2021-08-18 07:17:14,206:INFO:calculate_airborne_metrics.py:825 The minimum detection score is 0.985\n",
            "2021-08-18 07:17:14,206:INFO:calculate_airborne_metrics.py:827 FPPI: 0.00000\n",
            "2021-08-18 07:17:14,206:INFO:calculate_airborne_metrics.py:829 HFAR: 0.00000\n",
            "2021-08-18 07:17:14,206:INFO:calculate_airborne_metrics.py:833 Planned Aircraft: 957\n",
            "2021-08-18 07:17:14,206:INFO:calculate_airborne_metrics.py:834 Non-Planned Airborne: 1856\n",
            "2021-08-18 07:17:14,206:INFO:calculate_airborne_metrics.py:835 Non-Planned Aircraft: 467\n",
            "2021-08-18 07:17:14,206:INFO:calculate_airborne_metrics.py:837 All Aircraft: 1424\n",
            "2021-08-18 07:17:14,206:INFO:calculate_airborne_metrics.py:843 AFDR, aircraft with range <= 699.85: 0.98529 = 268 / 272\n",
            "2021-08-18 07:17:14,206:INFO:calculate_airborne_metrics.py:853 AFDR, aircraft with area > 200: 0.25962 = 344 / 1325\n",
            "2021-08-18 07:17:14,206:INFO:calculate_airborne_metrics.py:858 AFDR, aircraft with area <= 200: 0.04040 = 4 / 99\n",
            "2021-08-18 07:17:14,206:INFO:calculate_airborne_metrics.py:859 Detected Encounters based on Detections: \n",
            "2021-08-18 07:17:14,206:INFO:calculate_airborne_metrics.py:706 Max. range 300: Below Horizon: 0 / 0  = 0.000\n",
            "2021-08-18 07:17:14,207:INFO:calculate_airborne_metrics.py:706 Max. range 300: Mixed: 1 / 1  = 1.000\n",
            "2021-08-18 07:17:14,207:INFO:calculate_airborne_metrics.py:706 Max. range 300: Above Horizon: 1 / 1  = 1.000\n",
            "2021-08-18 07:17:14,207:INFO:calculate_airborne_metrics.py:706 Max. range 300: All: 2 / 2  = 1.000\n",
            "2021-08-18 07:17:14,207:INFO:calculate_airborne_metrics.py:863 Detected Encounters based on Tracking: \n",
            "2021-08-18 07:17:14,207:INFO:calculate_airborne_metrics.py:706 Max. range 300: Below Horizon: 0 / 0  = 0.000\n",
            "2021-08-18 07:17:14,207:INFO:calculate_airborne_metrics.py:706 Max. range 300: Mixed: 1 / 1  = 1.000\n",
            "2021-08-18 07:17:14,207:INFO:calculate_airborne_metrics.py:706 Max. range 300: Above Horizon: 1 / 1  = 1.000\n",
            "2021-08-18 07:17:14,207:INFO:calculate_airborne_metrics.py:706 Max. range 300: All: 2 / 2  = 1.000\n",
            "2021-08-18 07:17:14,207:INFO:calculate_airborne_metrics.py:868 Saving summary to data/evaluation/result/result_metrics_min_track_len_0/summary_far_0_0_min_intruder_fl_dr_0p5_in_win_30.json\n"
          ],
          "name": "stdout"
        }
      ]
    },
    {
      "cell_type": "code",
      "metadata": {
        "colab": {
          "base_uri": "https://localhost:8080/"
        },
        "id": "xEr5HMLV9Bc8",
        "outputId": "77b17eb1-7db2-42e0-a865-2b3ae43c8359"
      },
      "source": [
        "!cat data/evaluation/summaries/*_for_ranking.csv"
      ],
      "execution_count": null,
      "outputs": [
        {
          "output_type": "stream",
          "text": [
            "cat: 'data/evaluation/summaries/*_for_ranking.csv': No such file or directory\n"
          ],
          "name": "stdout"
        }
      ]
    }
  ]
}